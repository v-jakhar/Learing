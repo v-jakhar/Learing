{
 "cells": [
  {
   "cell_type": "markdown",
   "id": "3c9e2206",
   "metadata": {
    "papermill": {
     "duration": 0.029005,
     "end_time": "2024-04-30T19:39:50.576917",
     "exception": false,
     "start_time": "2024-04-30T19:39:50.547912",
     "status": "completed"
    },
    "tags": []
   },
   "source": [
    "# Importing Libraries\n",
    "These are some of the libraries which will be required for the EDA"
   ]
  },
  {
   "cell_type": "code",
   "execution_count": 1,
   "id": "06d2ddac",
   "metadata": {
    "execution": {
     "iopub.execute_input": "2024-04-30T19:39:50.637434Z",
     "iopub.status.busy": "2024-04-30T19:39:50.637022Z",
     "iopub.status.idle": "2024-04-30T19:39:54.086022Z",
     "shell.execute_reply": "2024-04-30T19:39:54.084390Z"
    },
    "papermill": {
     "duration": 3.48284,
     "end_time": "2024-04-30T19:39:54.089454",
     "exception": false,
     "start_time": "2024-04-30T19:39:50.606614",
     "status": "completed"
    },
    "tags": []
   },
   "outputs": [],
   "source": [
    "import numpy as np\n",
    "import pandas as pd\n",
    "import matplotlib.pyplot as plt\n",
    "import seaborn as sns\n",
    "%matplotlib inline\n",
    "\n",
    "from sklearn.preprocessing import OrdinalEncoder\n",
    "from sklearn.model_selection import train_test_split\n",
    "from sklearn.ensemble import RandomForestClassifier\n",
    "from sklearn.metrics import accuracy_score\n",
    "\n",
    "import warnings\n",
    "warnings.filterwarnings(\"ignore\")"
   ]
  },
  {
   "cell_type": "markdown",
   "id": "02d9645a",
   "metadata": {
    "papermill": {
     "duration": 0.027332,
     "end_time": "2024-04-30T19:39:54.144681",
     "exception": false,
     "start_time": "2024-04-30T19:39:54.117349",
     "status": "completed"
    },
    "tags": []
   },
   "source": [
    "# Now lets start by reading the Data"
   ]
  },
  {
   "cell_type": "code",
   "execution_count": 2,
   "id": "6011407c",
   "metadata": {
    "execution": {
     "iopub.execute_input": "2024-04-30T19:39:54.206793Z",
     "iopub.status.busy": "2024-04-30T19:39:54.206248Z",
     "iopub.status.idle": "2024-04-30T19:39:54.242347Z",
     "shell.execute_reply": "2024-04-30T19:39:54.240916Z"
    },
    "papermill": {
     "duration": 0.070163,
     "end_time": "2024-04-30T19:39:54.245791",
     "exception": false,
     "start_time": "2024-04-30T19:39:54.175628",
     "status": "completed"
    },
    "tags": []
   },
   "outputs": [],
   "source": [
    "train_path = '/kaggle/input/titanic/train.csv'\n",
    "test_path = '/kaggle/input/titanic/test.csv'\n",
    "# Read the csv file into train_data dataframe\n",
    "df_train = pd.read_csv(train_path)\n",
    "df_test = pd.read_csv(test_path)"
   ]
  },
  {
   "cell_type": "code",
   "execution_count": 3,
   "id": "fb8d3897",
   "metadata": {
    "execution": {
     "iopub.execute_input": "2024-04-30T19:39:54.306228Z",
     "iopub.status.busy": "2024-04-30T19:39:54.305792Z",
     "iopub.status.idle": "2024-04-30T19:39:54.341690Z",
     "shell.execute_reply": "2024-04-30T19:39:54.339725Z"
    },
    "papermill": {
     "duration": 0.068832,
     "end_time": "2024-04-30T19:39:54.344857",
     "exception": false,
     "start_time": "2024-04-30T19:39:54.276025",
     "status": "completed"
    },
    "tags": []
   },
   "outputs": [
    {
     "data": {
      "text/html": [
       "<div>\n",
       "<style scoped>\n",
       "    .dataframe tbody tr th:only-of-type {\n",
       "        vertical-align: middle;\n",
       "    }\n",
       "\n",
       "    .dataframe tbody tr th {\n",
       "        vertical-align: top;\n",
       "    }\n",
       "\n",
       "    .dataframe thead th {\n",
       "        text-align: right;\n",
       "    }\n",
       "</style>\n",
       "<table border=\"1\" class=\"dataframe\">\n",
       "  <thead>\n",
       "    <tr style=\"text-align: right;\">\n",
       "      <th></th>\n",
       "      <th>PassengerId</th>\n",
       "      <th>Survived</th>\n",
       "      <th>Pclass</th>\n",
       "      <th>Name</th>\n",
       "      <th>Sex</th>\n",
       "      <th>Age</th>\n",
       "      <th>SibSp</th>\n",
       "      <th>Parch</th>\n",
       "      <th>Ticket</th>\n",
       "      <th>Fare</th>\n",
       "      <th>Cabin</th>\n",
       "      <th>Embarked</th>\n",
       "    </tr>\n",
       "  </thead>\n",
       "  <tbody>\n",
       "    <tr>\n",
       "      <th>0</th>\n",
       "      <td>1</td>\n",
       "      <td>0</td>\n",
       "      <td>3</td>\n",
       "      <td>Braund, Mr. Owen Harris</td>\n",
       "      <td>male</td>\n",
       "      <td>22.0</td>\n",
       "      <td>1</td>\n",
       "      <td>0</td>\n",
       "      <td>A/5 21171</td>\n",
       "      <td>7.2500</td>\n",
       "      <td>NaN</td>\n",
       "      <td>S</td>\n",
       "    </tr>\n",
       "    <tr>\n",
       "      <th>1</th>\n",
       "      <td>2</td>\n",
       "      <td>1</td>\n",
       "      <td>1</td>\n",
       "      <td>Cumings, Mrs. John Bradley (Florence Briggs Th...</td>\n",
       "      <td>female</td>\n",
       "      <td>38.0</td>\n",
       "      <td>1</td>\n",
       "      <td>0</td>\n",
       "      <td>PC 17599</td>\n",
       "      <td>71.2833</td>\n",
       "      <td>C85</td>\n",
       "      <td>C</td>\n",
       "    </tr>\n",
       "    <tr>\n",
       "      <th>2</th>\n",
       "      <td>3</td>\n",
       "      <td>1</td>\n",
       "      <td>3</td>\n",
       "      <td>Heikkinen, Miss. Laina</td>\n",
       "      <td>female</td>\n",
       "      <td>26.0</td>\n",
       "      <td>0</td>\n",
       "      <td>0</td>\n",
       "      <td>STON/O2. 3101282</td>\n",
       "      <td>7.9250</td>\n",
       "      <td>NaN</td>\n",
       "      <td>S</td>\n",
       "    </tr>\n",
       "    <tr>\n",
       "      <th>3</th>\n",
       "      <td>4</td>\n",
       "      <td>1</td>\n",
       "      <td>1</td>\n",
       "      <td>Futrelle, Mrs. Jacques Heath (Lily May Peel)</td>\n",
       "      <td>female</td>\n",
       "      <td>35.0</td>\n",
       "      <td>1</td>\n",
       "      <td>0</td>\n",
       "      <td>113803</td>\n",
       "      <td>53.1000</td>\n",
       "      <td>C123</td>\n",
       "      <td>S</td>\n",
       "    </tr>\n",
       "    <tr>\n",
       "      <th>4</th>\n",
       "      <td>5</td>\n",
       "      <td>0</td>\n",
       "      <td>3</td>\n",
       "      <td>Allen, Mr. William Henry</td>\n",
       "      <td>male</td>\n",
       "      <td>35.0</td>\n",
       "      <td>0</td>\n",
       "      <td>0</td>\n",
       "      <td>373450</td>\n",
       "      <td>8.0500</td>\n",
       "      <td>NaN</td>\n",
       "      <td>S</td>\n",
       "    </tr>\n",
       "  </tbody>\n",
       "</table>\n",
       "</div>"
      ],
      "text/plain": [
       "   PassengerId  Survived  Pclass  \\\n",
       "0            1         0       3   \n",
       "1            2         1       1   \n",
       "2            3         1       3   \n",
       "3            4         1       1   \n",
       "4            5         0       3   \n",
       "\n",
       "                                                Name     Sex   Age  SibSp  \\\n",
       "0                            Braund, Mr. Owen Harris    male  22.0      1   \n",
       "1  Cumings, Mrs. John Bradley (Florence Briggs Th...  female  38.0      1   \n",
       "2                             Heikkinen, Miss. Laina  female  26.0      0   \n",
       "3       Futrelle, Mrs. Jacques Heath (Lily May Peel)  female  35.0      1   \n",
       "4                           Allen, Mr. William Henry    male  35.0      0   \n",
       "\n",
       "   Parch            Ticket     Fare Cabin Embarked  \n",
       "0      0         A/5 21171   7.2500   NaN        S  \n",
       "1      0          PC 17599  71.2833   C85        C  \n",
       "2      0  STON/O2. 3101282   7.9250   NaN        S  \n",
       "3      0            113803  53.1000  C123        S  \n",
       "4      0            373450   8.0500   NaN        S  "
      ]
     },
     "execution_count": 3,
     "metadata": {},
     "output_type": "execute_result"
    }
   ],
   "source": [
    "# Check first five rows of train.csv\n",
    "df_train.head()"
   ]
  },
  {
   "cell_type": "code",
   "execution_count": 4,
   "id": "57609944",
   "metadata": {
    "execution": {
     "iopub.execute_input": "2024-04-30T19:39:54.405021Z",
     "iopub.status.busy": "2024-04-30T19:39:54.404334Z",
     "iopub.status.idle": "2024-04-30T19:39:54.411083Z",
     "shell.execute_reply": "2024-04-30T19:39:54.409872Z"
    },
    "papermill": {
     "duration": 0.03983,
     "end_time": "2024-04-30T19:39:54.413974",
     "exception": false,
     "start_time": "2024-04-30T19:39:54.374144",
     "status": "completed"
    },
    "tags": []
   },
   "outputs": [
    {
     "data": {
      "text/plain": [
       "(891, 12)"
      ]
     },
     "execution_count": 4,
     "metadata": {},
     "output_type": "execute_result"
    }
   ],
   "source": [
    "# Check the number of rows and columns in the train data\n",
    "df_train.shape"
   ]
  },
  {
   "cell_type": "code",
   "execution_count": 5,
   "id": "b1d577f9",
   "metadata": {
    "execution": {
     "iopub.execute_input": "2024-04-30T19:39:54.474518Z",
     "iopub.status.busy": "2024-04-30T19:39:54.474070Z",
     "iopub.status.idle": "2024-04-30T19:39:54.503676Z",
     "shell.execute_reply": "2024-04-30T19:39:54.502555Z"
    },
    "papermill": {
     "duration": 0.063979,
     "end_time": "2024-04-30T19:39:54.506861",
     "exception": false,
     "start_time": "2024-04-30T19:39:54.442882",
     "status": "completed"
    },
    "tags": []
   },
   "outputs": [
    {
     "name": "stdout",
     "output_type": "stream",
     "text": [
      "<class 'pandas.core.frame.DataFrame'>\n",
      "RangeIndex: 891 entries, 0 to 890\n",
      "Data columns (total 12 columns):\n",
      " #   Column       Non-Null Count  Dtype  \n",
      "---  ------       --------------  -----  \n",
      " 0   PassengerId  891 non-null    int64  \n",
      " 1   Survived     891 non-null    int64  \n",
      " 2   Pclass       891 non-null    int64  \n",
      " 3   Name         891 non-null    object \n",
      " 4   Sex          891 non-null    object \n",
      " 5   Age          714 non-null    float64\n",
      " 6   SibSp        891 non-null    int64  \n",
      " 7   Parch        891 non-null    int64  \n",
      " 8   Ticket       891 non-null    object \n",
      " 9   Fare         891 non-null    float64\n",
      " 10  Cabin        204 non-null    object \n",
      " 11  Embarked     889 non-null    object \n",
      "dtypes: float64(2), int64(5), object(5)\n",
      "memory usage: 83.7+ KB\n"
     ]
    }
   ],
   "source": [
    "# To get the overview of the train data\n",
    "df_train.info()"
   ]
  },
  {
   "cell_type": "code",
   "execution_count": 6,
   "id": "6a0eb849",
   "metadata": {
    "execution": {
     "iopub.execute_input": "2024-04-30T19:39:54.565836Z",
     "iopub.status.busy": "2024-04-30T19:39:54.565022Z",
     "iopub.status.idle": "2024-04-30T19:39:54.599282Z",
     "shell.execute_reply": "2024-04-30T19:39:54.598133Z"
    },
    "papermill": {
     "duration": 0.066647,
     "end_time": "2024-04-30T19:39:54.601865",
     "exception": false,
     "start_time": "2024-04-30T19:39:54.535218",
     "status": "completed"
    },
    "tags": []
   },
   "outputs": [
    {
     "data": {
      "text/html": [
       "<div>\n",
       "<style scoped>\n",
       "    .dataframe tbody tr th:only-of-type {\n",
       "        vertical-align: middle;\n",
       "    }\n",
       "\n",
       "    .dataframe tbody tr th {\n",
       "        vertical-align: top;\n",
       "    }\n",
       "\n",
       "    .dataframe thead th {\n",
       "        text-align: right;\n",
       "    }\n",
       "</style>\n",
       "<table border=\"1\" class=\"dataframe\">\n",
       "  <thead>\n",
       "    <tr style=\"text-align: right;\">\n",
       "      <th></th>\n",
       "      <th>PassengerId</th>\n",
       "      <th>Survived</th>\n",
       "      <th>Pclass</th>\n",
       "      <th>Age</th>\n",
       "      <th>SibSp</th>\n",
       "      <th>Parch</th>\n",
       "      <th>Fare</th>\n",
       "    </tr>\n",
       "  </thead>\n",
       "  <tbody>\n",
       "    <tr>\n",
       "      <th>count</th>\n",
       "      <td>891.000000</td>\n",
       "      <td>891.000000</td>\n",
       "      <td>891.000000</td>\n",
       "      <td>714.000000</td>\n",
       "      <td>891.000000</td>\n",
       "      <td>891.000000</td>\n",
       "      <td>891.000000</td>\n",
       "    </tr>\n",
       "    <tr>\n",
       "      <th>mean</th>\n",
       "      <td>446.000000</td>\n",
       "      <td>0.383838</td>\n",
       "      <td>2.308642</td>\n",
       "      <td>29.699118</td>\n",
       "      <td>0.523008</td>\n",
       "      <td>0.381594</td>\n",
       "      <td>32.204208</td>\n",
       "    </tr>\n",
       "    <tr>\n",
       "      <th>std</th>\n",
       "      <td>257.353842</td>\n",
       "      <td>0.486592</td>\n",
       "      <td>0.836071</td>\n",
       "      <td>14.526497</td>\n",
       "      <td>1.102743</td>\n",
       "      <td>0.806057</td>\n",
       "      <td>49.693429</td>\n",
       "    </tr>\n",
       "    <tr>\n",
       "      <th>min</th>\n",
       "      <td>1.000000</td>\n",
       "      <td>0.000000</td>\n",
       "      <td>1.000000</td>\n",
       "      <td>0.420000</td>\n",
       "      <td>0.000000</td>\n",
       "      <td>0.000000</td>\n",
       "      <td>0.000000</td>\n",
       "    </tr>\n",
       "    <tr>\n",
       "      <th>25%</th>\n",
       "      <td>223.500000</td>\n",
       "      <td>0.000000</td>\n",
       "      <td>2.000000</td>\n",
       "      <td>20.125000</td>\n",
       "      <td>0.000000</td>\n",
       "      <td>0.000000</td>\n",
       "      <td>7.910400</td>\n",
       "    </tr>\n",
       "    <tr>\n",
       "      <th>50%</th>\n",
       "      <td>446.000000</td>\n",
       "      <td>0.000000</td>\n",
       "      <td>3.000000</td>\n",
       "      <td>28.000000</td>\n",
       "      <td>0.000000</td>\n",
       "      <td>0.000000</td>\n",
       "      <td>14.454200</td>\n",
       "    </tr>\n",
       "    <tr>\n",
       "      <th>75%</th>\n",
       "      <td>668.500000</td>\n",
       "      <td>1.000000</td>\n",
       "      <td>3.000000</td>\n",
       "      <td>38.000000</td>\n",
       "      <td>1.000000</td>\n",
       "      <td>0.000000</td>\n",
       "      <td>31.000000</td>\n",
       "    </tr>\n",
       "    <tr>\n",
       "      <th>max</th>\n",
       "      <td>891.000000</td>\n",
       "      <td>1.000000</td>\n",
       "      <td>3.000000</td>\n",
       "      <td>80.000000</td>\n",
       "      <td>8.000000</td>\n",
       "      <td>6.000000</td>\n",
       "      <td>512.329200</td>\n",
       "    </tr>\n",
       "  </tbody>\n",
       "</table>\n",
       "</div>"
      ],
      "text/plain": [
       "       PassengerId    Survived      Pclass         Age       SibSp  \\\n",
       "count   891.000000  891.000000  891.000000  714.000000  891.000000   \n",
       "mean    446.000000    0.383838    2.308642   29.699118    0.523008   \n",
       "std     257.353842    0.486592    0.836071   14.526497    1.102743   \n",
       "min       1.000000    0.000000    1.000000    0.420000    0.000000   \n",
       "25%     223.500000    0.000000    2.000000   20.125000    0.000000   \n",
       "50%     446.000000    0.000000    3.000000   28.000000    0.000000   \n",
       "75%     668.500000    1.000000    3.000000   38.000000    1.000000   \n",
       "max     891.000000    1.000000    3.000000   80.000000    8.000000   \n",
       "\n",
       "            Parch        Fare  \n",
       "count  891.000000  891.000000  \n",
       "mean     0.381594   32.204208  \n",
       "std      0.806057   49.693429  \n",
       "min      0.000000    0.000000  \n",
       "25%      0.000000    7.910400  \n",
       "50%      0.000000   14.454200  \n",
       "75%      0.000000   31.000000  \n",
       "max      6.000000  512.329200  "
      ]
     },
     "execution_count": 6,
     "metadata": {},
     "output_type": "execute_result"
    }
   ],
   "source": [
    "# To get summary of numerical columns in train data\n",
    "df_train.describe()"
   ]
  },
  {
   "cell_type": "code",
   "execution_count": 7,
   "id": "9e511524",
   "metadata": {
    "execution": {
     "iopub.execute_input": "2024-04-30T19:39:54.660475Z",
     "iopub.status.busy": "2024-04-30T19:39:54.659715Z",
     "iopub.status.idle": "2024-04-30T19:39:54.680863Z",
     "shell.execute_reply": "2024-04-30T19:39:54.679734Z"
    },
    "papermill": {
     "duration": 0.05381,
     "end_time": "2024-04-30T19:39:54.683838",
     "exception": false,
     "start_time": "2024-04-30T19:39:54.630028",
     "status": "completed"
    },
    "tags": []
   },
   "outputs": [
    {
     "data": {
      "text/html": [
       "<div>\n",
       "<style scoped>\n",
       "    .dataframe tbody tr th:only-of-type {\n",
       "        vertical-align: middle;\n",
       "    }\n",
       "\n",
       "    .dataframe tbody tr th {\n",
       "        vertical-align: top;\n",
       "    }\n",
       "\n",
       "    .dataframe thead th {\n",
       "        text-align: right;\n",
       "    }\n",
       "</style>\n",
       "<table border=\"1\" class=\"dataframe\">\n",
       "  <thead>\n",
       "    <tr style=\"text-align: right;\">\n",
       "      <th></th>\n",
       "      <th>Name</th>\n",
       "      <th>Sex</th>\n",
       "      <th>Ticket</th>\n",
       "      <th>Cabin</th>\n",
       "      <th>Embarked</th>\n",
       "    </tr>\n",
       "  </thead>\n",
       "  <tbody>\n",
       "    <tr>\n",
       "      <th>count</th>\n",
       "      <td>891</td>\n",
       "      <td>891</td>\n",
       "      <td>891</td>\n",
       "      <td>204</td>\n",
       "      <td>889</td>\n",
       "    </tr>\n",
       "    <tr>\n",
       "      <th>unique</th>\n",
       "      <td>891</td>\n",
       "      <td>2</td>\n",
       "      <td>681</td>\n",
       "      <td>147</td>\n",
       "      <td>3</td>\n",
       "    </tr>\n",
       "    <tr>\n",
       "      <th>top</th>\n",
       "      <td>Braund, Mr. Owen Harris</td>\n",
       "      <td>male</td>\n",
       "      <td>347082</td>\n",
       "      <td>B96 B98</td>\n",
       "      <td>S</td>\n",
       "    </tr>\n",
       "    <tr>\n",
       "      <th>freq</th>\n",
       "      <td>1</td>\n",
       "      <td>577</td>\n",
       "      <td>7</td>\n",
       "      <td>4</td>\n",
       "      <td>644</td>\n",
       "    </tr>\n",
       "  </tbody>\n",
       "</table>\n",
       "</div>"
      ],
      "text/plain": [
       "                           Name   Sex  Ticket    Cabin Embarked\n",
       "count                       891   891     891      204      889\n",
       "unique                      891     2     681      147        3\n",
       "top     Braund, Mr. Owen Harris  male  347082  B96 B98        S\n",
       "freq                          1   577       7        4      644"
      ]
     },
     "execution_count": 7,
     "metadata": {},
     "output_type": "execute_result"
    }
   ],
   "source": [
    "# To get the summary of categorical columns in train data\n",
    "df_train.describe(include='O')"
   ]
  },
  {
   "cell_type": "markdown",
   "id": "43f37ad6",
   "metadata": {
    "papermill": {
     "duration": 0.029002,
     "end_time": "2024-04-30T19:39:54.742151",
     "exception": false,
     "start_time": "2024-04-30T19:39:54.713149",
     "status": "completed"
    },
    "tags": []
   },
   "source": [
    "**From the initial observation in the TRAIN data we can tell the following :**\n",
    "* The train dataset contains 891 rows and 12 columns\n",
    "* Out of those 12 columns there are 7 numericals and 5 categorical colummns\n",
    "* From categorical column 'Sex' we can conclude that there are more males in the train dataset\n",
    "* From categorical column 'Embarked' we can conclude that most of the people embarked from Southampton(S)"
   ]
  },
  {
   "cell_type": "code",
   "execution_count": 8,
   "id": "825ea863",
   "metadata": {
    "execution": {
     "iopub.execute_input": "2024-04-30T19:39:54.872440Z",
     "iopub.status.busy": "2024-04-30T19:39:54.871327Z",
     "iopub.status.idle": "2024-04-30T19:39:54.889471Z",
     "shell.execute_reply": "2024-04-30T19:39:54.888174Z"
    },
    "papermill": {
     "duration": 0.051555,
     "end_time": "2024-04-30T19:39:54.892382",
     "exception": false,
     "start_time": "2024-04-30T19:39:54.840827",
     "status": "completed"
    },
    "tags": []
   },
   "outputs": [
    {
     "data": {
      "text/html": [
       "<div>\n",
       "<style scoped>\n",
       "    .dataframe tbody tr th:only-of-type {\n",
       "        vertical-align: middle;\n",
       "    }\n",
       "\n",
       "    .dataframe tbody tr th {\n",
       "        vertical-align: top;\n",
       "    }\n",
       "\n",
       "    .dataframe thead th {\n",
       "        text-align: right;\n",
       "    }\n",
       "</style>\n",
       "<table border=\"1\" class=\"dataframe\">\n",
       "  <thead>\n",
       "    <tr style=\"text-align: right;\">\n",
       "      <th></th>\n",
       "      <th>PassengerId</th>\n",
       "      <th>Pclass</th>\n",
       "      <th>Name</th>\n",
       "      <th>Sex</th>\n",
       "      <th>Age</th>\n",
       "      <th>SibSp</th>\n",
       "      <th>Parch</th>\n",
       "      <th>Ticket</th>\n",
       "      <th>Fare</th>\n",
       "      <th>Cabin</th>\n",
       "      <th>Embarked</th>\n",
       "    </tr>\n",
       "  </thead>\n",
       "  <tbody>\n",
       "    <tr>\n",
       "      <th>0</th>\n",
       "      <td>892</td>\n",
       "      <td>3</td>\n",
       "      <td>Kelly, Mr. James</td>\n",
       "      <td>male</td>\n",
       "      <td>34.5</td>\n",
       "      <td>0</td>\n",
       "      <td>0</td>\n",
       "      <td>330911</td>\n",
       "      <td>7.8292</td>\n",
       "      <td>NaN</td>\n",
       "      <td>Q</td>\n",
       "    </tr>\n",
       "    <tr>\n",
       "      <th>1</th>\n",
       "      <td>893</td>\n",
       "      <td>3</td>\n",
       "      <td>Wilkes, Mrs. James (Ellen Needs)</td>\n",
       "      <td>female</td>\n",
       "      <td>47.0</td>\n",
       "      <td>1</td>\n",
       "      <td>0</td>\n",
       "      <td>363272</td>\n",
       "      <td>7.0000</td>\n",
       "      <td>NaN</td>\n",
       "      <td>S</td>\n",
       "    </tr>\n",
       "    <tr>\n",
       "      <th>2</th>\n",
       "      <td>894</td>\n",
       "      <td>2</td>\n",
       "      <td>Myles, Mr. Thomas Francis</td>\n",
       "      <td>male</td>\n",
       "      <td>62.0</td>\n",
       "      <td>0</td>\n",
       "      <td>0</td>\n",
       "      <td>240276</td>\n",
       "      <td>9.6875</td>\n",
       "      <td>NaN</td>\n",
       "      <td>Q</td>\n",
       "    </tr>\n",
       "    <tr>\n",
       "      <th>3</th>\n",
       "      <td>895</td>\n",
       "      <td>3</td>\n",
       "      <td>Wirz, Mr. Albert</td>\n",
       "      <td>male</td>\n",
       "      <td>27.0</td>\n",
       "      <td>0</td>\n",
       "      <td>0</td>\n",
       "      <td>315154</td>\n",
       "      <td>8.6625</td>\n",
       "      <td>NaN</td>\n",
       "      <td>S</td>\n",
       "    </tr>\n",
       "    <tr>\n",
       "      <th>4</th>\n",
       "      <td>896</td>\n",
       "      <td>3</td>\n",
       "      <td>Hirvonen, Mrs. Alexander (Helga E Lindqvist)</td>\n",
       "      <td>female</td>\n",
       "      <td>22.0</td>\n",
       "      <td>1</td>\n",
       "      <td>1</td>\n",
       "      <td>3101298</td>\n",
       "      <td>12.2875</td>\n",
       "      <td>NaN</td>\n",
       "      <td>S</td>\n",
       "    </tr>\n",
       "  </tbody>\n",
       "</table>\n",
       "</div>"
      ],
      "text/plain": [
       "   PassengerId  Pclass                                          Name     Sex  \\\n",
       "0          892       3                              Kelly, Mr. James    male   \n",
       "1          893       3              Wilkes, Mrs. James (Ellen Needs)  female   \n",
       "2          894       2                     Myles, Mr. Thomas Francis    male   \n",
       "3          895       3                              Wirz, Mr. Albert    male   \n",
       "4          896       3  Hirvonen, Mrs. Alexander (Helga E Lindqvist)  female   \n",
       "\n",
       "    Age  SibSp  Parch   Ticket     Fare Cabin Embarked  \n",
       "0  34.5      0      0   330911   7.8292   NaN        Q  \n",
       "1  47.0      1      0   363272   7.0000   NaN        S  \n",
       "2  62.0      0      0   240276   9.6875   NaN        Q  \n",
       "3  27.0      0      0   315154   8.6625   NaN        S  \n",
       "4  22.0      1      1  3101298  12.2875   NaN        S  "
      ]
     },
     "execution_count": 8,
     "metadata": {},
     "output_type": "execute_result"
    }
   ],
   "source": [
    "# Check first five rows of test.csv\n",
    "df_test.head()"
   ]
  },
  {
   "cell_type": "code",
   "execution_count": 9,
   "id": "301519f6",
   "metadata": {
    "execution": {
     "iopub.execute_input": "2024-04-30T19:39:54.954979Z",
     "iopub.status.busy": "2024-04-30T19:39:54.954497Z",
     "iopub.status.idle": "2024-04-30T19:39:54.962301Z",
     "shell.execute_reply": "2024-04-30T19:39:54.961106Z"
    },
    "papermill": {
     "duration": 0.042044,
     "end_time": "2024-04-30T19:39:54.964793",
     "exception": false,
     "start_time": "2024-04-30T19:39:54.922749",
     "status": "completed"
    },
    "tags": []
   },
   "outputs": [
    {
     "data": {
      "text/plain": [
       "(418, 11)"
      ]
     },
     "execution_count": 9,
     "metadata": {},
     "output_type": "execute_result"
    }
   ],
   "source": [
    "# Check the number of rows and columns in the test data\n",
    "df_test.shape"
   ]
  },
  {
   "cell_type": "code",
   "execution_count": 10,
   "id": "c668fc9c",
   "metadata": {
    "execution": {
     "iopub.execute_input": "2024-04-30T19:39:55.025766Z",
     "iopub.status.busy": "2024-04-30T19:39:55.024332Z",
     "iopub.status.idle": "2024-04-30T19:39:55.038247Z",
     "shell.execute_reply": "2024-04-30T19:39:55.036902Z"
    },
    "papermill": {
     "duration": 0.047796,
     "end_time": "2024-04-30T19:39:55.041386",
     "exception": false,
     "start_time": "2024-04-30T19:39:54.993590",
     "status": "completed"
    },
    "tags": []
   },
   "outputs": [
    {
     "name": "stdout",
     "output_type": "stream",
     "text": [
      "<class 'pandas.core.frame.DataFrame'>\n",
      "RangeIndex: 418 entries, 0 to 417\n",
      "Data columns (total 11 columns):\n",
      " #   Column       Non-Null Count  Dtype  \n",
      "---  ------       --------------  -----  \n",
      " 0   PassengerId  418 non-null    int64  \n",
      " 1   Pclass       418 non-null    int64  \n",
      " 2   Name         418 non-null    object \n",
      " 3   Sex          418 non-null    object \n",
      " 4   Age          332 non-null    float64\n",
      " 5   SibSp        418 non-null    int64  \n",
      " 6   Parch        418 non-null    int64  \n",
      " 7   Ticket       418 non-null    object \n",
      " 8   Fare         417 non-null    float64\n",
      " 9   Cabin        91 non-null     object \n",
      " 10  Embarked     418 non-null    object \n",
      "dtypes: float64(2), int64(4), object(5)\n",
      "memory usage: 36.0+ KB\n"
     ]
    }
   ],
   "source": [
    "# To get the overview of the test data\n",
    "df_test.info()"
   ]
  },
  {
   "cell_type": "code",
   "execution_count": 11,
   "id": "44f7c657",
   "metadata": {
    "execution": {
     "iopub.execute_input": "2024-04-30T19:39:55.103001Z",
     "iopub.status.busy": "2024-04-30T19:39:55.102235Z",
     "iopub.status.idle": "2024-04-30T19:39:55.131319Z",
     "shell.execute_reply": "2024-04-30T19:39:55.129604Z"
    },
    "papermill": {
     "duration": 0.063641,
     "end_time": "2024-04-30T19:39:55.134453",
     "exception": false,
     "start_time": "2024-04-30T19:39:55.070812",
     "status": "completed"
    },
    "tags": []
   },
   "outputs": [
    {
     "data": {
      "text/html": [
       "<div>\n",
       "<style scoped>\n",
       "    .dataframe tbody tr th:only-of-type {\n",
       "        vertical-align: middle;\n",
       "    }\n",
       "\n",
       "    .dataframe tbody tr th {\n",
       "        vertical-align: top;\n",
       "    }\n",
       "\n",
       "    .dataframe thead th {\n",
       "        text-align: right;\n",
       "    }\n",
       "</style>\n",
       "<table border=\"1\" class=\"dataframe\">\n",
       "  <thead>\n",
       "    <tr style=\"text-align: right;\">\n",
       "      <th></th>\n",
       "      <th>PassengerId</th>\n",
       "      <th>Pclass</th>\n",
       "      <th>Age</th>\n",
       "      <th>SibSp</th>\n",
       "      <th>Parch</th>\n",
       "      <th>Fare</th>\n",
       "    </tr>\n",
       "  </thead>\n",
       "  <tbody>\n",
       "    <tr>\n",
       "      <th>count</th>\n",
       "      <td>418.000000</td>\n",
       "      <td>418.000000</td>\n",
       "      <td>332.000000</td>\n",
       "      <td>418.000000</td>\n",
       "      <td>418.000000</td>\n",
       "      <td>417.000000</td>\n",
       "    </tr>\n",
       "    <tr>\n",
       "      <th>mean</th>\n",
       "      <td>1100.500000</td>\n",
       "      <td>2.265550</td>\n",
       "      <td>30.272590</td>\n",
       "      <td>0.447368</td>\n",
       "      <td>0.392344</td>\n",
       "      <td>35.627188</td>\n",
       "    </tr>\n",
       "    <tr>\n",
       "      <th>std</th>\n",
       "      <td>120.810458</td>\n",
       "      <td>0.841838</td>\n",
       "      <td>14.181209</td>\n",
       "      <td>0.896760</td>\n",
       "      <td>0.981429</td>\n",
       "      <td>55.907576</td>\n",
       "    </tr>\n",
       "    <tr>\n",
       "      <th>min</th>\n",
       "      <td>892.000000</td>\n",
       "      <td>1.000000</td>\n",
       "      <td>0.170000</td>\n",
       "      <td>0.000000</td>\n",
       "      <td>0.000000</td>\n",
       "      <td>0.000000</td>\n",
       "    </tr>\n",
       "    <tr>\n",
       "      <th>25%</th>\n",
       "      <td>996.250000</td>\n",
       "      <td>1.000000</td>\n",
       "      <td>21.000000</td>\n",
       "      <td>0.000000</td>\n",
       "      <td>0.000000</td>\n",
       "      <td>7.895800</td>\n",
       "    </tr>\n",
       "    <tr>\n",
       "      <th>50%</th>\n",
       "      <td>1100.500000</td>\n",
       "      <td>3.000000</td>\n",
       "      <td>27.000000</td>\n",
       "      <td>0.000000</td>\n",
       "      <td>0.000000</td>\n",
       "      <td>14.454200</td>\n",
       "    </tr>\n",
       "    <tr>\n",
       "      <th>75%</th>\n",
       "      <td>1204.750000</td>\n",
       "      <td>3.000000</td>\n",
       "      <td>39.000000</td>\n",
       "      <td>1.000000</td>\n",
       "      <td>0.000000</td>\n",
       "      <td>31.500000</td>\n",
       "    </tr>\n",
       "    <tr>\n",
       "      <th>max</th>\n",
       "      <td>1309.000000</td>\n",
       "      <td>3.000000</td>\n",
       "      <td>76.000000</td>\n",
       "      <td>8.000000</td>\n",
       "      <td>9.000000</td>\n",
       "      <td>512.329200</td>\n",
       "    </tr>\n",
       "  </tbody>\n",
       "</table>\n",
       "</div>"
      ],
      "text/plain": [
       "       PassengerId      Pclass         Age       SibSp       Parch        Fare\n",
       "count   418.000000  418.000000  332.000000  418.000000  418.000000  417.000000\n",
       "mean   1100.500000    2.265550   30.272590    0.447368    0.392344   35.627188\n",
       "std     120.810458    0.841838   14.181209    0.896760    0.981429   55.907576\n",
       "min     892.000000    1.000000    0.170000    0.000000    0.000000    0.000000\n",
       "25%     996.250000    1.000000   21.000000    0.000000    0.000000    7.895800\n",
       "50%    1100.500000    3.000000   27.000000    0.000000    0.000000   14.454200\n",
       "75%    1204.750000    3.000000   39.000000    1.000000    0.000000   31.500000\n",
       "max    1309.000000    3.000000   76.000000    8.000000    9.000000  512.329200"
      ]
     },
     "execution_count": 11,
     "metadata": {},
     "output_type": "execute_result"
    }
   ],
   "source": [
    "# To get the summary of the numerical columns in test data\n",
    "df_test.describe()"
   ]
  },
  {
   "cell_type": "code",
   "execution_count": 12,
   "id": "145d8f1b",
   "metadata": {
    "execution": {
     "iopub.execute_input": "2024-04-30T19:39:55.199474Z",
     "iopub.status.busy": "2024-04-30T19:39:55.198774Z",
     "iopub.status.idle": "2024-04-30T19:39:55.222953Z",
     "shell.execute_reply": "2024-04-30T19:39:55.221210Z"
    },
    "papermill": {
     "duration": 0.059692,
     "end_time": "2024-04-30T19:39:55.225918",
     "exception": false,
     "start_time": "2024-04-30T19:39:55.166226",
     "status": "completed"
    },
    "tags": []
   },
   "outputs": [
    {
     "data": {
      "text/html": [
       "<div>\n",
       "<style scoped>\n",
       "    .dataframe tbody tr th:only-of-type {\n",
       "        vertical-align: middle;\n",
       "    }\n",
       "\n",
       "    .dataframe tbody tr th {\n",
       "        vertical-align: top;\n",
       "    }\n",
       "\n",
       "    .dataframe thead th {\n",
       "        text-align: right;\n",
       "    }\n",
       "</style>\n",
       "<table border=\"1\" class=\"dataframe\">\n",
       "  <thead>\n",
       "    <tr style=\"text-align: right;\">\n",
       "      <th></th>\n",
       "      <th>Name</th>\n",
       "      <th>Sex</th>\n",
       "      <th>Ticket</th>\n",
       "      <th>Cabin</th>\n",
       "      <th>Embarked</th>\n",
       "    </tr>\n",
       "  </thead>\n",
       "  <tbody>\n",
       "    <tr>\n",
       "      <th>count</th>\n",
       "      <td>418</td>\n",
       "      <td>418</td>\n",
       "      <td>418</td>\n",
       "      <td>91</td>\n",
       "      <td>418</td>\n",
       "    </tr>\n",
       "    <tr>\n",
       "      <th>unique</th>\n",
       "      <td>418</td>\n",
       "      <td>2</td>\n",
       "      <td>363</td>\n",
       "      <td>76</td>\n",
       "      <td>3</td>\n",
       "    </tr>\n",
       "    <tr>\n",
       "      <th>top</th>\n",
       "      <td>Kelly, Mr. James</td>\n",
       "      <td>male</td>\n",
       "      <td>PC 17608</td>\n",
       "      <td>B57 B59 B63 B66</td>\n",
       "      <td>S</td>\n",
       "    </tr>\n",
       "    <tr>\n",
       "      <th>freq</th>\n",
       "      <td>1</td>\n",
       "      <td>266</td>\n",
       "      <td>5</td>\n",
       "      <td>3</td>\n",
       "      <td>270</td>\n",
       "    </tr>\n",
       "  </tbody>\n",
       "</table>\n",
       "</div>"
      ],
      "text/plain": [
       "                    Name   Sex    Ticket            Cabin Embarked\n",
       "count                418   418       418               91      418\n",
       "unique               418     2       363               76        3\n",
       "top     Kelly, Mr. James  male  PC 17608  B57 B59 B63 B66        S\n",
       "freq                   1   266         5                3      270"
      ]
     },
     "execution_count": 12,
     "metadata": {},
     "output_type": "execute_result"
    }
   ],
   "source": [
    "# To get the summary of categorical columns in test data\n",
    "df_test.describe(include='O')"
   ]
  },
  {
   "cell_type": "markdown",
   "id": "2bda8182",
   "metadata": {
    "papermill": {
     "duration": 0.030356,
     "end_time": "2024-04-30T19:39:55.286909",
     "exception": false,
     "start_time": "2024-04-30T19:39:55.256553",
     "status": "completed"
    },
    "tags": []
   },
   "source": [
    "**Similarly from the initial observation in the TEST data we can tell the following :**\n",
    "* The train dataset contains 418 rows and 11 columns\n",
    "* Out of those 11 columns there are 6 numericals and 5 categorical colummns\n",
    "* From categorical column 'Sex' we can conclude that there are more males in the train dataset\n",
    "* From categorical column 'Embarked' we can conclude that most of the people embarked from Southampton(S)"
   ]
  },
  {
   "cell_type": "markdown",
   "id": "84dbd0c1",
   "metadata": {
    "papermill": {
     "duration": 0.02961,
     "end_time": "2024-04-30T19:39:55.347163",
     "exception": false,
     "start_time": "2024-04-30T19:39:55.317553",
     "status": "completed"
    },
    "tags": []
   },
   "source": [
    "# Checking for inconsistent values"
   ]
  },
  {
   "cell_type": "code",
   "execution_count": 13,
   "id": "acd2d82b",
   "metadata": {
    "execution": {
     "iopub.execute_input": "2024-04-30T19:39:55.408671Z",
     "iopub.status.busy": "2024-04-30T19:39:55.408186Z",
     "iopub.status.idle": "2024-04-30T19:39:55.423415Z",
     "shell.execute_reply": "2024-04-30T19:39:55.422332Z"
    },
    "papermill": {
     "duration": 0.04923,
     "end_time": "2024-04-30T19:39:55.425912",
     "exception": false,
     "start_time": "2024-04-30T19:39:55.376682",
     "status": "completed"
    },
    "tags": []
   },
   "outputs": [
    {
     "data": {
      "text/plain": [
       "PassengerId    891\n",
       "Survived         2\n",
       "Pclass           3\n",
       "Name           891\n",
       "Sex              2\n",
       "Age             88\n",
       "SibSp            7\n",
       "Parch            7\n",
       "Ticket         681\n",
       "Fare           248\n",
       "Cabin          147\n",
       "Embarked         3\n",
       "dtype: int64"
      ]
     },
     "execution_count": 13,
     "metadata": {},
     "output_type": "execute_result"
    }
   ],
   "source": [
    "# To check the number of unique values in each column in train dataset\n",
    "df_train.nunique()"
   ]
  },
  {
   "cell_type": "code",
   "execution_count": 14,
   "id": "eb798bbf",
   "metadata": {
    "execution": {
     "iopub.execute_input": "2024-04-30T19:39:55.500464Z",
     "iopub.status.busy": "2024-04-30T19:39:55.499437Z",
     "iopub.status.idle": "2024-04-30T19:39:55.509325Z",
     "shell.execute_reply": "2024-04-30T19:39:55.507683Z"
    },
    "papermill": {
     "duration": 0.055912,
     "end_time": "2024-04-30T19:39:55.512917",
     "exception": false,
     "start_time": "2024-04-30T19:39:55.457005",
     "status": "completed"
    },
    "tags": []
   },
   "outputs": [
    {
     "name": "stdout",
     "output_type": "stream",
     "text": [
      "The unique values in column Survived are : [0 1]\n",
      "The unique values in column Pclass are : [3 1 2]\n",
      "The unique values in column Sex are : ['male' 'female']\n",
      "The unique values in column SibSp are : [1 0 3 4 2 5 8]\n",
      "The unique values in column Parch are : [0 1 2 5 3 4 6]\n",
      "The unique values in column Embarked are : ['S' 'C' 'Q' nan]\n"
     ]
    }
   ],
   "source": [
    "# To See all the unique values in following columns in train dataset\n",
    "for col in ['Survived', 'Pclass', 'Sex', 'SibSp', 'Parch', 'Embarked']:\n",
    "    print(f'The unique values in column {col} are : {df_train[col].unique()}')"
   ]
  },
  {
   "cell_type": "code",
   "execution_count": 15,
   "id": "1ba139de",
   "metadata": {
    "execution": {
     "iopub.execute_input": "2024-04-30T19:39:55.584416Z",
     "iopub.status.busy": "2024-04-30T19:39:55.582879Z",
     "iopub.status.idle": "2024-04-30T19:39:55.605880Z",
     "shell.execute_reply": "2024-04-30T19:39:55.604596Z"
    },
    "papermill": {
     "duration": 0.059014,
     "end_time": "2024-04-30T19:39:55.609322",
     "exception": false,
     "start_time": "2024-04-30T19:39:55.550308",
     "status": "completed"
    },
    "tags": []
   },
   "outputs": [
    {
     "name": "stdout",
     "output_type": "stream",
     "text": [
      "PassengerId\n",
      "1      1\n",
      "599    1\n",
      "588    1\n",
      "589    1\n",
      "590    1\n",
      "      ..\n",
      "301    1\n",
      "302    1\n",
      "303    1\n",
      "304    1\n",
      "891    1\n",
      "Name: count, Length: 891, dtype: int64\n",
      "\n",
      "\n",
      "Name\n",
      "Braund, Mr. Owen Harris                     1\n",
      "Boulos, Mr. Hanna                           1\n",
      "Frolicher-Stehli, Mr. Maxmillian            1\n",
      "Gilinski, Mr. Eliezer                       1\n",
      "Murdlin, Mr. Joseph                         1\n",
      "                                           ..\n",
      "Kelly, Miss. Anna Katherine \"Annie Kate\"    1\n",
      "McCoy, Mr. Bernard                          1\n",
      "Johnson, Mr. William Cahoone Jr             1\n",
      "Keane, Miss. Nora A                         1\n",
      "Dooley, Mr. Patrick                         1\n",
      "Name: count, Length: 891, dtype: int64\n",
      "\n",
      "\n",
      "Age\n",
      "24.00    30\n",
      "22.00    27\n",
      "18.00    26\n",
      "19.00    25\n",
      "28.00    25\n",
      "         ..\n",
      "36.50     1\n",
      "55.50     1\n",
      "0.92      1\n",
      "23.50     1\n",
      "74.00     1\n",
      "Name: count, Length: 88, dtype: int64\n",
      "\n",
      "\n",
      "Ticket\n",
      "347082      7\n",
      "CA. 2343    7\n",
      "1601        7\n",
      "3101295     6\n",
      "CA 2144     6\n",
      "           ..\n",
      "9234        1\n",
      "19988       1\n",
      "2693        1\n",
      "PC 17612    1\n",
      "370376      1\n",
      "Name: count, Length: 681, dtype: int64\n",
      "\n",
      "\n",
      "Fare\n",
      "8.0500     43\n",
      "13.0000    42\n",
      "7.8958     38\n",
      "7.7500     34\n",
      "26.0000    31\n",
      "           ..\n",
      "35.0000     1\n",
      "28.5000     1\n",
      "6.2375      1\n",
      "14.0000     1\n",
      "10.5167     1\n",
      "Name: count, Length: 248, dtype: int64\n",
      "\n",
      "\n",
      "Cabin\n",
      "B96 B98        4\n",
      "G6             4\n",
      "C23 C25 C27    4\n",
      "C22 C26        3\n",
      "F33            3\n",
      "              ..\n",
      "E34            1\n",
      "C7             1\n",
      "C54            1\n",
      "E36            1\n",
      "C148           1\n",
      "Name: count, Length: 147, dtype: int64\n",
      "\n",
      "\n"
     ]
    }
   ],
   "source": [
    "# To check the value counts for each value in following columns in train dataset\n",
    "for col in ['PassengerId', 'Name', 'Age', 'Ticket', 'Fare', 'Cabin']:\n",
    "    print(f'{df_train[col].value_counts()}\\n\\n')"
   ]
  },
  {
   "cell_type": "markdown",
   "id": "b4c25a0a",
   "metadata": {
    "papermill": {
     "duration": 0.034709,
     "end_time": "2024-04-30T19:39:55.674662",
     "exception": false,
     "start_time": "2024-04-30T19:39:55.639953",
     "status": "completed"
    },
    "tags": []
   },
   "source": [
    "**Unique values in the above columns in TRAIN dataset are just as expected and are not inconsistent**"
   ]
  },
  {
   "cell_type": "code",
   "execution_count": 16,
   "id": "f95bc72b",
   "metadata": {
    "execution": {
     "iopub.execute_input": "2024-04-30T19:39:55.763255Z",
     "iopub.status.busy": "2024-04-30T19:39:55.760339Z",
     "iopub.status.idle": "2024-04-30T19:39:55.774575Z",
     "shell.execute_reply": "2024-04-30T19:39:55.773405Z"
    },
    "papermill": {
     "duration": 0.062643,
     "end_time": "2024-04-30T19:39:55.777317",
     "exception": false,
     "start_time": "2024-04-30T19:39:55.714674",
     "status": "completed"
    },
    "tags": []
   },
   "outputs": [
    {
     "data": {
      "text/plain": [
       "PassengerId    418\n",
       "Pclass           3\n",
       "Name           418\n",
       "Sex              2\n",
       "Age             79\n",
       "SibSp            7\n",
       "Parch            8\n",
       "Ticket         363\n",
       "Fare           169\n",
       "Cabin           76\n",
       "Embarked         3\n",
       "dtype: int64"
      ]
     },
     "execution_count": 16,
     "metadata": {},
     "output_type": "execute_result"
    }
   ],
   "source": [
    "# To check the number of unique values in each column in test dataset\n",
    "df_test.nunique()"
   ]
  },
  {
   "cell_type": "code",
   "execution_count": 17,
   "id": "18d264fc",
   "metadata": {
    "execution": {
     "iopub.execute_input": "2024-04-30T19:39:55.844780Z",
     "iopub.status.busy": "2024-04-30T19:39:55.843980Z",
     "iopub.status.idle": "2024-04-30T19:39:55.851966Z",
     "shell.execute_reply": "2024-04-30T19:39:55.850582Z"
    },
    "papermill": {
     "duration": 0.042867,
     "end_time": "2024-04-30T19:39:55.854587",
     "exception": false,
     "start_time": "2024-04-30T19:39:55.811720",
     "status": "completed"
    },
    "tags": []
   },
   "outputs": [
    {
     "name": "stdout",
     "output_type": "stream",
     "text": [
      "The unique values in column Pclass are : [3 2 1]\n",
      "The unique values in column Sex are : ['male' 'female']\n",
      "The unique values in column SibSp are : [0 1 2 3 4 5 8]\n",
      "The unique values in column Parch are : [0 1 3 2 4 6 5 9]\n",
      "The unique values in column Embarked are : ['Q' 'S' 'C']\n"
     ]
    }
   ],
   "source": [
    "# To See all the unique values in following columns in test dataset\n",
    "for col in ['Pclass', 'Sex', 'SibSp', 'Parch', 'Embarked']:\n",
    "    print(f'The unique values in column {col} are : {df_test[col].unique()}')"
   ]
  },
  {
   "cell_type": "code",
   "execution_count": 18,
   "id": "1bd2d890",
   "metadata": {
    "execution": {
     "iopub.execute_input": "2024-04-30T19:39:55.929280Z",
     "iopub.status.busy": "2024-04-30T19:39:55.928463Z",
     "iopub.status.idle": "2024-04-30T19:39:55.946104Z",
     "shell.execute_reply": "2024-04-30T19:39:55.944976Z"
    },
    "papermill": {
     "duration": 0.062496,
     "end_time": "2024-04-30T19:39:55.949655",
     "exception": false,
     "start_time": "2024-04-30T19:39:55.887159",
     "status": "completed"
    },
    "tags": []
   },
   "outputs": [
    {
     "name": "stdout",
     "output_type": "stream",
     "text": [
      "PassengerId\n",
      "892     1\n",
      "1205    1\n",
      "1177    1\n",
      "1176    1\n",
      "1175    1\n",
      "       ..\n",
      "1028    1\n",
      "1027    1\n",
      "1026    1\n",
      "1025    1\n",
      "1309    1\n",
      "Name: count, Length: 418, dtype: int64\n",
      "\n",
      "\n",
      "Name\n",
      "Kelly, Mr. James               1\n",
      "Carr, Miss. Jeannie            1\n",
      "Dennis, Mr. William            1\n",
      "Rosblom, Miss. Salli Helena    1\n",
      "Touma, Miss. Maria Youssef     1\n",
      "                              ..\n",
      "Zakarian, Mr. Mapriededer      1\n",
      "Carlsson, Mr. Carl Robert      1\n",
      "Dintcheff, Mr. Valtcho         1\n",
      "Thomas, Mr. Charles P          1\n",
      "Peter, Master. Michael J       1\n",
      "Name: count, Length: 418, dtype: int64\n",
      "\n",
      "\n",
      "Age\n",
      "21.0    17\n",
      "24.0    17\n",
      "22.0    16\n",
      "30.0    15\n",
      "18.0    13\n",
      "        ..\n",
      "76.0     1\n",
      "28.5     1\n",
      "22.5     1\n",
      "62.0     1\n",
      "38.5     1\n",
      "Name: count, Length: 79, dtype: int64\n",
      "\n",
      "\n",
      "Ticket\n",
      "PC 17608    5\n",
      "CA. 2343    4\n",
      "113503      4\n",
      "PC 17483    3\n",
      "220845      3\n",
      "           ..\n",
      "349226      1\n",
      "2621        1\n",
      "4133        1\n",
      "113780      1\n",
      "2668        1\n",
      "Name: count, Length: 363, dtype: int64\n",
      "\n",
      "\n",
      "Fare\n",
      "7.7500     21\n",
      "26.0000    19\n",
      "13.0000    17\n",
      "8.0500     17\n",
      "7.8958     11\n",
      "           ..\n",
      "7.8208      1\n",
      "8.5167      1\n",
      "78.8500     1\n",
      "52.0000     1\n",
      "22.3583     1\n",
      "Name: count, Length: 169, dtype: int64\n",
      "\n",
      "\n",
      "Cabin\n",
      "B57 B59 B63 B66    3\n",
      "B45                2\n",
      "C89                2\n",
      "C55 C57            2\n",
      "A34                2\n",
      "                  ..\n",
      "E52                1\n",
      "D30                1\n",
      "E31                1\n",
      "C62 C64            1\n",
      "C105               1\n",
      "Name: count, Length: 76, dtype: int64\n",
      "\n",
      "\n"
     ]
    }
   ],
   "source": [
    "# To check the value counts for each value in following columns in test dataset\n",
    "for col in ['PassengerId', 'Name', 'Age', 'Ticket', 'Fare', 'Cabin']:\n",
    "    print(f'{df_test[col].value_counts()}\\n\\n')"
   ]
  },
  {
   "cell_type": "markdown",
   "id": "b5881f5e",
   "metadata": {
    "papermill": {
     "duration": 0.030526,
     "end_time": "2024-04-30T19:39:56.015415",
     "exception": false,
     "start_time": "2024-04-30T19:39:55.984889",
     "status": "completed"
    },
    "tags": []
   },
   "source": [
    "**Similarly unique values in the above columns in TEST dataset are just as expected and are not inconsistent**"
   ]
  },
  {
   "cell_type": "markdown",
   "id": "c22a396f",
   "metadata": {
    "papermill": {
     "duration": 0.030846,
     "end_time": "2024-04-30T19:39:56.077333",
     "exception": false,
     "start_time": "2024-04-30T19:39:56.046487",
     "status": "completed"
    },
    "tags": []
   },
   "source": [
    "# Missing values\n",
    "**We will now check for missing values in both TRAIN and TEST datasets and how to handle them**"
   ]
  },
  {
   "cell_type": "code",
   "execution_count": 19,
   "id": "d4f4e485",
   "metadata": {
    "execution": {
     "iopub.execute_input": "2024-04-30T19:39:56.140480Z",
     "iopub.status.busy": "2024-04-30T19:39:56.140110Z",
     "iopub.status.idle": "2024-04-30T19:39:56.452128Z",
     "shell.execute_reply": "2024-04-30T19:39:56.450947Z"
    },
    "papermill": {
     "duration": 0.346885,
     "end_time": "2024-04-30T19:39:56.454971",
     "exception": false,
     "start_time": "2024-04-30T19:39:56.108086",
     "status": "completed"
    },
    "tags": []
   },
   "outputs": [
    {
     "data": {
      "text/plain": [
       "<Axes: >"
      ]
     },
     "execution_count": 19,
     "metadata": {},
     "output_type": "execute_result"
    },
    {
     "data": {
      "image/png": "[encoded data removed]",
      "text/plain": [
       "<Figure size 640x480 with 1 Axes>"
      ]
     },
     "metadata": {},
     "output_type": "display_data"
    }
   ],
   "source": [
    "# Heatmap for missing values in train dataset\n",
    "sns.heatmap(df_train.isna(), yticklabels = False, cbar = False)"
   ]
  },
  {
   "cell_type": "markdown",
   "id": "d485ce70",
   "metadata": {
    "papermill": {
     "duration": 0.032185,
     "end_time": "2024-04-30T19:39:56.518761",
     "exception": false,
     "start_time": "2024-04-30T19:39:56.486576",
     "status": "completed"
    },
    "tags": []
   },
   "source": [
    "As we can see from the HEATMAP above that there are missing values in column - Age, Cabin, Embarked\n",
    "\n",
    "Lets dive deeper into it and learn more about the missing values in the train dataset"
   ]
  },
  {
   "cell_type": "code",
   "execution_count": 20,
   "id": "daa2991f",
   "metadata": {
    "execution": {
     "iopub.execute_input": "2024-04-30T19:39:56.584207Z",
     "iopub.status.busy": "2024-04-30T19:39:56.583534Z",
     "iopub.status.idle": "2024-04-30T19:39:56.593168Z",
     "shell.execute_reply": "2024-04-30T19:39:56.592022Z"
    },
    "papermill": {
     "duration": 0.044826,
     "end_time": "2024-04-30T19:39:56.595495",
     "exception": false,
     "start_time": "2024-04-30T19:39:56.550669",
     "status": "completed"
    },
    "tags": []
   },
   "outputs": [
    {
     "data": {
      "text/plain": [
       "PassengerId      0\n",
       "Survived         0\n",
       "Pclass           0\n",
       "Name             0\n",
       "Sex              0\n",
       "Age            177\n",
       "SibSp            0\n",
       "Parch            0\n",
       "Ticket           0\n",
       "Fare             0\n",
       "Cabin          687\n",
       "Embarked         2\n",
       "dtype: int64"
      ]
     },
     "execution_count": 20,
     "metadata": {},
     "output_type": "execute_result"
    }
   ],
   "source": [
    "# To check the number of missing values in each columns in train dataset\n",
    "df_train.isna().sum()"
   ]
  },
  {
   "cell_type": "code",
   "execution_count": 21,
   "id": "d5888bb5",
   "metadata": {
    "execution": {
     "iopub.execute_input": "2024-04-30T19:39:56.660238Z",
     "iopub.status.busy": "2024-04-30T19:39:56.659565Z",
     "iopub.status.idle": "2024-04-30T19:39:56.670093Z",
     "shell.execute_reply": "2024-04-30T19:39:56.668889Z"
    },
    "papermill": {
     "duration": 0.046037,
     "end_time": "2024-04-30T19:39:56.672650",
     "exception": false,
     "start_time": "2024-04-30T19:39:56.626613",
     "status": "completed"
    },
    "tags": []
   },
   "outputs": [
    {
     "data": {
      "text/plain": [
       "PassengerId    0.000000\n",
       "Survived       0.000000\n",
       "Pclass         0.000000\n",
       "Name           0.000000\n",
       "Sex            0.000000\n",
       "Age            0.198653\n",
       "SibSp          0.000000\n",
       "Parch          0.000000\n",
       "Ticket         0.000000\n",
       "Fare           0.000000\n",
       "Cabin          0.771044\n",
       "Embarked       0.002245\n",
       "dtype: float64"
      ]
     },
     "execution_count": 21,
     "metadata": {},
     "output_type": "execute_result"
    }
   ],
   "source": [
    "# To check the percentage of missing values in each columns in train dataset\n",
    "df_train.isna().mean()"
   ]
  },
  {
   "cell_type": "markdown",
   "id": "db237a96",
   "metadata": {
    "papermill": {
     "duration": 0.031719,
     "end_time": "2024-04-30T19:39:56.736352",
     "exception": false,
     "start_time": "2024-04-30T19:39:56.704633",
     "status": "completed"
    },
    "tags": []
   },
   "source": [
    "* Age column has 177 missing values which is about 19.8% of total values\n",
    "* Cabin column has 687 missing values which is about 77.1% of total values\n",
    "* Embarked column has 2 missing values which is about 0.22% of total values"
   ]
  },
  {
   "cell_type": "code",
   "execution_count": 22,
   "id": "64f67149",
   "metadata": {
    "execution": {
     "iopub.execute_input": "2024-04-30T19:39:56.802626Z",
     "iopub.status.busy": "2024-04-30T19:39:56.801713Z",
     "iopub.status.idle": "2024-04-30T19:39:57.043528Z",
     "shell.execute_reply": "2024-04-30T19:39:57.042339Z"
    },
    "papermill": {
     "duration": 0.277301,
     "end_time": "2024-04-30T19:39:57.046057",
     "exception": false,
     "start_time": "2024-04-30T19:39:56.768756",
     "status": "completed"
    },
    "tags": []
   },
   "outputs": [
    {
     "data": {
      "text/plain": [
       "<Axes: >"
      ]
     },
     "execution_count": 22,
     "metadata": {},
     "output_type": "execute_result"
    },
    {
     "data": {
      "image/png": "[encoded data removed]",
      "text/plain": [
       "<Figure size 640x480 with 1 Axes>"
      ]
     },
     "metadata": {},
     "output_type": "display_data"
    }
   ],
   "source": [
    "# Heatmap for missing values in test dataset\n",
    "sns.heatmap(df_test.isna(), yticklabels = False, cbar = False)"
   ]
  },
  {
   "cell_type": "markdown",
   "id": "605f26be",
   "metadata": {
    "papermill": {
     "duration": 0.031543,
     "end_time": "2024-04-30T19:39:57.109563",
     "exception": false,
     "start_time": "2024-04-30T19:39:57.078020",
     "status": "completed"
    },
    "tags": []
   },
   "source": [
    "As we can see from the HEATMAP above that there are missing values in column - Age, Cabin, Fare\n",
    "\n",
    "Lets dive deeper into it and learn more about the missing values in the test dataset"
   ]
  },
  {
   "cell_type": "code",
   "execution_count": 23,
   "id": "18eeb475",
   "metadata": {
    "execution": {
     "iopub.execute_input": "2024-04-30T19:39:57.175976Z",
     "iopub.status.busy": "2024-04-30T19:39:57.175335Z",
     "iopub.status.idle": "2024-04-30T19:39:57.184522Z",
     "shell.execute_reply": "2024-04-30T19:39:57.183376Z"
    },
    "papermill": {
     "duration": 0.046216,
     "end_time": "2024-04-30T19:39:57.187654",
     "exception": false,
     "start_time": "2024-04-30T19:39:57.141438",
     "status": "completed"
    },
    "tags": []
   },
   "outputs": [
    {
     "data": {
      "text/plain": [
       "PassengerId      0\n",
       "Pclass           0\n",
       "Name             0\n",
       "Sex              0\n",
       "Age             86\n",
       "SibSp            0\n",
       "Parch            0\n",
       "Ticket           0\n",
       "Fare             1\n",
       "Cabin          327\n",
       "Embarked         0\n",
       "dtype: int64"
      ]
     },
     "execution_count": 23,
     "metadata": {},
     "output_type": "execute_result"
    }
   ],
   "source": [
    "# To check the number of missing values in each columns in test dataset\n",
    "df_test.isna().sum()"
   ]
  },
  {
   "cell_type": "code",
   "execution_count": 24,
   "id": "b9ca01a9",
   "metadata": {
    "execution": {
     "iopub.execute_input": "2024-04-30T19:39:57.259590Z",
     "iopub.status.busy": "2024-04-30T19:39:57.259156Z",
     "iopub.status.idle": "2024-04-30T19:39:57.269423Z",
     "shell.execute_reply": "2024-04-30T19:39:57.267959Z"
    },
    "papermill": {
     "duration": 0.050782,
     "end_time": "2024-04-30T19:39:57.272337",
     "exception": false,
     "start_time": "2024-04-30T19:39:57.221555",
     "status": "completed"
    },
    "tags": []
   },
   "outputs": [
    {
     "data": {
      "text/plain": [
       "PassengerId    0.000000\n",
       "Pclass         0.000000\n",
       "Name           0.000000\n",
       "Sex            0.000000\n",
       "Age            0.205742\n",
       "SibSp          0.000000\n",
       "Parch          0.000000\n",
       "Ticket         0.000000\n",
       "Fare           0.002392\n",
       "Cabin          0.782297\n",
       "Embarked       0.000000\n",
       "dtype: float64"
      ]
     },
     "execution_count": 24,
     "metadata": {},
     "output_type": "execute_result"
    }
   ],
   "source": [
    "# To check the number of missing values in each columns in test dataset\n",
    "df_test.isna().mean()"
   ]
  },
  {
   "cell_type": "markdown",
   "id": "7bf4f5f3",
   "metadata": {
    "papermill": {
     "duration": 0.03453,
     "end_time": "2024-04-30T19:39:57.340885",
     "exception": false,
     "start_time": "2024-04-30T19:39:57.306355",
     "status": "completed"
    },
    "tags": []
   },
   "source": [
    "* Age column has 86 missing values which is about 20.57% of total values\n",
    "* Cabin column has 327 missing values which is about 78.22% of total values\n",
    "* Fare column has 1 missing values which is about 0.23% of total values"
   ]
  },
  {
   "cell_type": "markdown",
   "id": "bc28184c",
   "metadata": {
    "papermill": {
     "duration": 0.03348,
     "end_time": "2024-04-30T19:39:57.408871",
     "exception": false,
     "start_time": "2024-04-30T19:39:57.375391",
     "status": "completed"
    },
    "tags": []
   },
   "source": [
    "# Handling the missing values\n",
    "**First we will deal with the TRAIN dataset**"
   ]
  },
  {
   "cell_type": "code",
   "execution_count": 25,
   "id": "72801da4",
   "metadata": {
    "execution": {
     "iopub.execute_input": "2024-04-30T19:39:57.481227Z",
     "iopub.status.busy": "2024-04-30T19:39:57.480796Z",
     "iopub.status.idle": "2024-04-30T19:39:57.964661Z",
     "shell.execute_reply": "2024-04-30T19:39:57.963381Z"
    },
    "papermill": {
     "duration": 0.522322,
     "end_time": "2024-04-30T19:39:57.967651",
     "exception": false,
     "start_time": "2024-04-30T19:39:57.445329",
     "status": "completed"
    },
    "tags": []
   },
   "outputs": [
    {
     "data": {
      "text/plain": [
       "<Axes: xlabel='Age', ylabel='Count'>"
      ]
     },
     "execution_count": 25,
     "metadata": {},
     "output_type": "execute_result"
    },
    {
     "data": {
      "image/png": "[encoded data removed]",
      "text/plain": [
       "<Figure size 640x480 with 1 Axes>"
      ]
     },
     "metadata": {},
     "output_type": "display_data"
    }
   ],
   "source": [
    "# To see the age distribution in train dataset using histogram\n",
    "sns.set_style('darkgrid')\n",
    "sns.histplot(data = df_train, x = 'Age')"
   ]
  },
  {
   "cell_type": "markdown",
   "id": "14beba25",
   "metadata": {
    "papermill": {
     "duration": 0.03276,
     "end_time": "2024-04-30T19:39:58.033701",
     "exception": false,
     "start_time": "2024-04-30T19:39:58.000941",
     "status": "completed"
    },
    "tags": []
   },
   "source": [
    "The distribution looks normal and is not skewed"
   ]
  },
  {
   "cell_type": "code",
   "execution_count": 26,
   "id": "4e52c752",
   "metadata": {
    "execution": {
     "iopub.execute_input": "2024-04-30T19:39:58.101748Z",
     "iopub.status.busy": "2024-04-30T19:39:58.101125Z",
     "iopub.status.idle": "2024-04-30T19:39:58.503593Z",
     "shell.execute_reply": "2024-04-30T19:39:58.501733Z"
    },
    "papermill": {
     "duration": 0.440054,
     "end_time": "2024-04-30T19:39:58.506561",
     "exception": false,
     "start_time": "2024-04-30T19:39:58.066507",
     "status": "completed"
    },
    "tags": []
   },
   "outputs": [
    {
     "data": {
      "text/plain": [
       "<Axes: xlabel='Pclass', ylabel='Age'>"
      ]
     },
     "execution_count": 26,
     "metadata": {},
     "output_type": "execute_result"
    },
    {
     "data": {
      "image/png": "[encoded data removed]",
      "text/plain": [
       "<Figure size 640x480 with 1 Axes>"
      ]
     },
     "metadata": {},
     "output_type": "display_data"
    }
   ],
   "source": [
    "# To see boxplot of age with respect to Passenger class\n",
    "sns.boxplot(data= df_train, x = 'Pclass', y = 'Age')"
   ]
  },
  {
   "cell_type": "markdown",
   "id": "865a81ca",
   "metadata": {
    "papermill": {
     "duration": 0.04613,
     "end_time": "2024-04-30T19:39:58.598321",
     "exception": false,
     "start_time": "2024-04-30T19:39:58.552191",
     "status": "completed"
    },
    "tags": []
   },
   "source": [
    "* From the plot above we can easily see that overall age of Pclass-1 is graeter that Pclass-2 which in turn is greater than Pclass-3\n",
    "* As their are outliers in the plot above, therfore we will use median to handle the missing values for their respect passenger class"
   ]
  },
  {
   "cell_type": "code",
   "execution_count": 27,
   "id": "dc1308a3",
   "metadata": {
    "execution": {
     "iopub.execute_input": "2024-04-30T19:39:58.711798Z",
     "iopub.status.busy": "2024-04-30T19:39:58.709977Z",
     "iopub.status.idle": "2024-04-30T19:39:58.733113Z",
     "shell.execute_reply": "2024-04-30T19:39:58.732029Z"
    },
    "papermill": {
     "duration": 0.077395,
     "end_time": "2024-04-30T19:39:58.736062",
     "exception": false,
     "start_time": "2024-04-30T19:39:58.658667",
     "status": "completed"
    },
    "tags": []
   },
   "outputs": [
    {
     "data": {
      "text/plain": [
       "Pclass\n",
       "1    37.0\n",
       "2    29.0\n",
       "3    24.0\n",
       "Name: Age, dtype: float64"
      ]
     },
     "execution_count": 27,
     "metadata": {},
     "output_type": "execute_result"
    }
   ],
   "source": [
    "# To check the median age for every class in Pclass\n",
    "df_train.groupby('Pclass')['Age'].median()"
   ]
  },
  {
   "cell_type": "code",
   "execution_count": 28,
   "id": "a2485488",
   "metadata": {
    "execution": {
     "iopub.execute_input": "2024-04-30T19:39:58.827897Z",
     "iopub.status.busy": "2024-04-30T19:39:58.827070Z",
     "iopub.status.idle": "2024-04-30T19:39:58.834174Z",
     "shell.execute_reply": "2024-04-30T19:39:58.832611Z"
    },
    "papermill": {
     "duration": 0.056806,
     "end_time": "2024-04-30T19:39:58.837162",
     "exception": false,
     "start_time": "2024-04-30T19:39:58.780356",
     "status": "completed"
    },
    "tags": []
   },
   "outputs": [],
   "source": [
    "# function for imputing age in missing values with respect to their Pclass\n",
    "def imputeAge(cols):\n",
    "    Age = cols[0]\n",
    "    Pclass = cols[1]\n",
    "    if pd.isnull(Age):\n",
    "        if Pclass == 1:\n",
    "            return 37\n",
    "        elif Pclass == 2:\n",
    "            return 29\n",
    "        else:\n",
    "            return 24\n",
    "    else:\n",
    "        return Age"
   ]
  },
  {
   "cell_type": "code",
   "execution_count": 29,
   "id": "3e0a40c2",
   "metadata": {
    "execution": {
     "iopub.execute_input": "2024-04-30T19:39:58.913447Z",
     "iopub.status.busy": "2024-04-30T19:39:58.912985Z",
     "iopub.status.idle": "2024-04-30T19:39:58.970928Z",
     "shell.execute_reply": "2024-04-30T19:39:58.969257Z"
    },
    "papermill": {
     "duration": 0.099092,
     "end_time": "2024-04-30T19:39:58.974769",
     "exception": false,
     "start_time": "2024-04-30T19:39:58.875677",
     "status": "completed"
    },
    "tags": []
   },
   "outputs": [],
   "source": [
    "# Using the above function to impute age in missing value for respective Pclass\n",
    "df_train['Age'] = df_train[['Age', 'Pclass']].apply(imputeAge, axis = 1)"
   ]
  },
  {
   "cell_type": "markdown",
   "id": "6ff941d8",
   "metadata": {
    "papermill": {
     "duration": 0.042928,
     "end_time": "2024-04-30T19:39:59.060315",
     "exception": false,
     "start_time": "2024-04-30T19:39:59.017387",
     "status": "completed"
    },
    "tags": []
   },
   "source": [
    "We have successfully handled the missing values in the Age column in TRAIN data set, now lets do the rest of coulmns with missing values"
   ]
  },
  {
   "cell_type": "code",
   "execution_count": 30,
   "id": "bce255f1",
   "metadata": {
    "execution": {
     "iopub.execute_input": "2024-04-30T19:39:59.143845Z",
     "iopub.status.busy": "2024-04-30T19:39:59.143390Z",
     "iopub.status.idle": "2024-04-30T19:39:59.494849Z",
     "shell.execute_reply": "2024-04-30T19:39:59.493230Z"
    },
    "papermill": {
     "duration": 0.397115,
     "end_time": "2024-04-30T19:39:59.498606",
     "exception": false,
     "start_time": "2024-04-30T19:39:59.101491",
     "status": "completed"
    },
    "tags": []
   },
   "outputs": [
    {
     "data": {
      "text/plain": [
       "<Axes: xlabel='Embarked', ylabel='count'>"
      ]
     },
     "execution_count": 30,
     "metadata": {},
     "output_type": "execute_result"
    },
    {
     "data": {
      "image/png": "[encoded data removed]",
      "text/plain": [
       "<Figure size 640x480 with 1 Axes>"
      ]
     },
     "metadata": {},
     "output_type": "display_data"
    }
   ],
   "source": [
    "# To check the countplot for the Embarked column in train dataset\n",
    "sns.countplot(data = df_train, x = 'Embarked')"
   ]
  },
  {
   "cell_type": "markdown",
   "id": "c9cd0719",
   "metadata": {
    "papermill": {
     "duration": 0.041268,
     "end_time": "2024-04-30T19:39:59.584502",
     "exception": false,
     "start_time": "2024-04-30T19:39:59.543234",
     "status": "completed"
    },
    "tags": []
   },
   "source": [
    "As we can clearly see that majority of the people Embarked from Southampton('S'), we can use it to handle the missing values in Embarked column"
   ]
  },
  {
   "cell_type": "code",
   "execution_count": 31,
   "id": "fe5ca93f",
   "metadata": {
    "execution": {
     "iopub.execute_input": "2024-04-30T19:39:59.671445Z",
     "iopub.status.busy": "2024-04-30T19:39:59.670933Z",
     "iopub.status.idle": "2024-04-30T19:39:59.679806Z",
     "shell.execute_reply": "2024-04-30T19:39:59.678416Z"
    },
    "papermill": {
     "duration": 0.054621,
     "end_time": "2024-04-30T19:39:59.682449",
     "exception": false,
     "start_time": "2024-04-30T19:39:59.627828",
     "status": "completed"
    },
    "tags": []
   },
   "outputs": [],
   "source": [
    "# To fill the missing values in Embarked column\n",
    "df_train['Embarked'] = df_train['Embarked'].fillna('S')"
   ]
  },
  {
   "cell_type": "markdown",
   "id": "5699e8bd",
   "metadata": {
    "papermill": {
     "duration": 0.039917,
     "end_time": "2024-04-30T19:39:59.763731",
     "exception": false,
     "start_time": "2024-04-30T19:39:59.723814",
     "status": "completed"
    },
    "tags": []
   },
   "source": [
    "Now we are only left with Cabin column, but know that about ~80% of the values are missing in the Cabin column.\n",
    "As most of values are missing in the Cabin column, therefore it is better the drop the column as it will not be of much use anyways."
   ]
  },
  {
   "cell_type": "code",
   "execution_count": 32,
   "id": "4b69433f",
   "metadata": {
    "execution": {
     "iopub.execute_input": "2024-04-30T19:39:59.839486Z",
     "iopub.status.busy": "2024-04-30T19:39:59.838137Z",
     "iopub.status.idle": "2024-04-30T19:39:59.847781Z",
     "shell.execute_reply": "2024-04-30T19:39:59.846602Z"
    },
    "papermill": {
     "duration": 0.049936,
     "end_time": "2024-04-30T19:39:59.850791",
     "exception": false,
     "start_time": "2024-04-30T19:39:59.800855",
     "status": "completed"
    },
    "tags": []
   },
   "outputs": [],
   "source": [
    "# To drop the cabin column from the train dataset\n",
    "df_train.drop(columns = 'Cabin', inplace = True)"
   ]
  },
  {
   "cell_type": "code",
   "execution_count": 33,
   "id": "a1507ebe",
   "metadata": {
    "execution": {
     "iopub.execute_input": "2024-04-30T19:39:59.924587Z",
     "iopub.status.busy": "2024-04-30T19:39:59.924117Z",
     "iopub.status.idle": "2024-04-30T19:40:00.339224Z",
     "shell.execute_reply": "2024-04-30T19:40:00.337006Z"
    },
    "papermill": {
     "duration": 0.456549,
     "end_time": "2024-04-30T19:40:00.342853",
     "exception": false,
     "start_time": "2024-04-30T19:39:59.886304",
     "status": "completed"
    },
    "tags": []
   },
   "outputs": [
    {
     "data": {
      "text/plain": [
       "<Axes: >"
      ]
     },
     "execution_count": 33,
     "metadata": {},
     "output_type": "execute_result"
    },
    {
     "data": {
      "image/png": "[encoded data removed]",
      "text/plain": [
       "<Figure size 640x480 with 1 Axes>"
      ]
     },
     "metadata": {},
     "output_type": "display_data"
    }
   ],
   "source": [
    "# To check for missing values using heatmap\n",
    "sns.heatmap(df_train.isna(), yticklabels = False, cbar = False)"
   ]
  },
  {
   "cell_type": "markdown",
   "id": "b03ac939",
   "metadata": {
    "papermill": {
     "duration": 0.042958,
     "end_time": "2024-04-30T19:40:00.422722",
     "exception": false,
     "start_time": "2024-04-30T19:40:00.379764",
     "status": "completed"
    },
    "tags": []
   },
   "source": [
    "**From the above heatmap we can see that there are no missing values left in TRAIN dataset, now lets handle the missing values in TEST dataset**"
   ]
  },
  {
   "cell_type": "code",
   "execution_count": 34,
   "id": "2a0d29ea",
   "metadata": {
    "execution": {
     "iopub.execute_input": "2024-04-30T19:40:00.500836Z",
     "iopub.status.busy": "2024-04-30T19:40:00.500376Z",
     "iopub.status.idle": "2024-04-30T19:40:01.006927Z",
     "shell.execute_reply": "2024-04-30T19:40:01.005453Z"
    },
    "papermill": {
     "duration": 0.547654,
     "end_time": "2024-04-30T19:40:01.010423",
     "exception": false,
     "start_time": "2024-04-30T19:40:00.462769",
     "status": "completed"
    },
    "tags": []
   },
   "outputs": [
    {
     "data": {
      "text/plain": [
       "<Axes: xlabel='Age', ylabel='Count'>"
      ]
     },
     "execution_count": 34,
     "metadata": {},
     "output_type": "execute_result"
    },
    {
     "data": {
      "image/png": "[encoded data removed]",
      "text/plain": [
       "<Figure size 640x480 with 1 Axes>"
      ]
     },
     "metadata": {},
     "output_type": "display_data"
    }
   ],
   "source": [
    "# To see the age distribution in test dataset using histogram\n",
    "sns.histplot(data = df_test, x = 'Age')"
   ]
  },
  {
   "cell_type": "code",
   "execution_count": 35,
   "id": "ef41eba5",
   "metadata": {
    "execution": {
     "iopub.execute_input": "2024-04-30T19:40:01.106215Z",
     "iopub.status.busy": "2024-04-30T19:40:01.104711Z",
     "iopub.status.idle": "2024-04-30T19:40:01.481352Z",
     "shell.execute_reply": "2024-04-30T19:40:01.480138Z"
    },
    "papermill": {
     "duration": 0.425142,
     "end_time": "2024-04-30T19:40:01.484411",
     "exception": false,
     "start_time": "2024-04-30T19:40:01.059269",
     "status": "completed"
    },
    "tags": []
   },
   "outputs": [
    {
     "data": {
      "text/plain": [
       "<Axes: xlabel='Pclass', ylabel='Age'>"
      ]
     },
     "execution_count": 35,
     "metadata": {},
     "output_type": "execute_result"
    },
    {
     "data": {
      "image/png": "[encoded data removed]",
      "text/plain": [
       "<Figure size 640x480 with 1 Axes>"
      ]
     },
     "metadata": {},
     "output_type": "display_data"
    }
   ],
   "source": [
    "# To see boxplot of age with respect to Passenger class\n",
    "sns.boxplot(data= df_test, x = 'Pclass', y = 'Age')"
   ]
  },
  {
   "cell_type": "markdown",
   "id": "e95dd602",
   "metadata": {
    "papermill": {
     "duration": 0.039573,
     "end_time": "2024-04-30T19:40:01.560919",
     "exception": false,
     "start_time": "2024-04-30T19:40:01.521346",
     "status": "completed"
    },
    "tags": []
   },
   "source": [
    "* Our observation is again very similar to TRAIN dataset, as such we will use median to impute missing values "
   ]
  },
  {
   "cell_type": "code",
   "execution_count": 36,
   "id": "3f1b565e",
   "metadata": {
    "execution": {
     "iopub.execute_input": "2024-04-30T19:40:01.637796Z",
     "iopub.status.busy": "2024-04-30T19:40:01.637376Z",
     "iopub.status.idle": "2024-04-30T19:40:01.649018Z",
     "shell.execute_reply": "2024-04-30T19:40:01.648001Z"
    },
    "papermill": {
     "duration": 0.051955,
     "end_time": "2024-04-30T19:40:01.651798",
     "exception": false,
     "start_time": "2024-04-30T19:40:01.599843",
     "status": "completed"
    },
    "tags": []
   },
   "outputs": [
    {
     "data": {
      "text/plain": [
       "Pclass\n",
       "1    42.0\n",
       "2    26.5\n",
       "3    24.0\n",
       "Name: Age, dtype: float64"
      ]
     },
     "execution_count": 36,
     "metadata": {},
     "output_type": "execute_result"
    }
   ],
   "source": [
    "# To check the median age for every class in Pclass\n",
    "df_test.groupby('Pclass')['Age'].median()"
   ]
  },
  {
   "cell_type": "code",
   "execution_count": 37,
   "id": "116d6944",
   "metadata": {
    "execution": {
     "iopub.execute_input": "2024-04-30T19:40:01.734847Z",
     "iopub.status.busy": "2024-04-30T19:40:01.734420Z",
     "iopub.status.idle": "2024-04-30T19:40:01.742126Z",
     "shell.execute_reply": "2024-04-30T19:40:01.740365Z"
    },
    "papermill": {
     "duration": 0.055022,
     "end_time": "2024-04-30T19:40:01.745722",
     "exception": false,
     "start_time": "2024-04-30T19:40:01.690700",
     "status": "completed"
    },
    "tags": []
   },
   "outputs": [],
   "source": [
    "# function for imputing age in missing values with respect to their Pclass\n",
    "def imputeAgeTest(cols):\n",
    "    Age = cols[0]\n",
    "    Pclass = cols[1]\n",
    "    if pd.isnull(Age):\n",
    "        if Pclass == 1:\n",
    "            return 42\n",
    "        elif Pclass == 2:\n",
    "            return 27\n",
    "        else:\n",
    "            return 24\n",
    "    else:\n",
    "        return Age"
   ]
  },
  {
   "cell_type": "code",
   "execution_count": 38,
   "id": "9fd41538",
   "metadata": {
    "execution": {
     "iopub.execute_input": "2024-04-30T19:40:01.830421Z",
     "iopub.status.busy": "2024-04-30T19:40:01.829356Z",
     "iopub.status.idle": "2024-04-30T19:40:01.860329Z",
     "shell.execute_reply": "2024-04-30T19:40:01.858340Z"
    },
    "papermill": {
     "duration": 0.077397,
     "end_time": "2024-04-30T19:40:01.863651",
     "exception": false,
     "start_time": "2024-04-30T19:40:01.786254",
     "status": "completed"
    },
    "tags": []
   },
   "outputs": [],
   "source": [
    "# Using the above function to impute age in missing value for respective Pclass\n",
    "df_test['Age'] = df_test[['Age', 'Pclass']].apply(imputeAgeTest, axis = 1)"
   ]
  },
  {
   "cell_type": "markdown",
   "id": "fc19f546",
   "metadata": {
    "papermill": {
     "duration": 0.035358,
     "end_time": "2024-04-30T19:40:01.936368",
     "exception": false,
     "start_time": "2024-04-30T19:40:01.901010",
     "status": "completed"
    },
    "tags": []
   },
   "source": [
    "Now we done with Age column in TEST dataset, lets look at Fare columns next."
   ]
  },
  {
   "cell_type": "code",
   "execution_count": 39,
   "id": "57d2b7bc",
   "metadata": {
    "execution": {
     "iopub.execute_input": "2024-04-30T19:40:02.023188Z",
     "iopub.status.busy": "2024-04-30T19:40:02.021118Z",
     "iopub.status.idle": "2024-04-30T19:40:02.656743Z",
     "shell.execute_reply": "2024-04-30T19:40:02.654902Z"
    },
    "papermill": {
     "duration": 0.685272,
     "end_time": "2024-04-30T19:40:02.659932",
     "exception": false,
     "start_time": "2024-04-30T19:40:01.974660",
     "status": "completed"
    },
    "tags": []
   },
   "outputs": [
    {
     "data": {
      "text/plain": [
       "<Axes: xlabel='Fare', ylabel='Count'>"
      ]
     },
     "execution_count": 39,
     "metadata": {},
     "output_type": "execute_result"
    },
    {
     "data": {
      "image/png": "[encoded data removed]",
      "text/plain": [
       "<Figure size 640x480 with 1 Axes>"
      ]
     },
     "metadata": {},
     "output_type": "display_data"
    }
   ],
   "source": [
    "# To see the histogram of Fare in test dataset\n",
    "sns.histplot(data= df_test, x = 'Fare')"
   ]
  },
  {
   "cell_type": "markdown",
   "id": "f97f0d36",
   "metadata": {
    "papermill": {
     "duration": 0.038187,
     "end_time": "2024-04-30T19:40:02.735796",
     "exception": false,
     "start_time": "2024-04-30T19:40:02.697609",
     "status": "completed"
    },
    "tags": []
   },
   "source": [
    "* We can clearly tell by watching the histogram above that data is highly skewed, therefore we will use median to replace the missing value"
   ]
  },
  {
   "cell_type": "code",
   "execution_count": 40,
   "id": "2d6c53a3",
   "metadata": {
    "execution": {
     "iopub.execute_input": "2024-04-30T19:40:02.813306Z",
     "iopub.status.busy": "2024-04-30T19:40:02.812804Z",
     "iopub.status.idle": "2024-04-30T19:40:02.821548Z",
     "shell.execute_reply": "2024-04-30T19:40:02.820407Z"
    },
    "papermill": {
     "duration": 0.050691,
     "end_time": "2024-04-30T19:40:02.824425",
     "exception": false,
     "start_time": "2024-04-30T19:40:02.773734",
     "status": "completed"
    },
    "tags": []
   },
   "outputs": [],
   "source": [
    "# To fill the missing value in Fare column with median in test dataset\n",
    "df_test['Fare'].fillna(df_test['Fare'].median(), inplace = True)"
   ]
  },
  {
   "cell_type": "markdown",
   "id": "7ecd304f",
   "metadata": {
    "papermill": {
     "duration": 0.037908,
     "end_time": "2024-04-30T19:40:02.900700",
     "exception": false,
     "start_time": "2024-04-30T19:40:02.862792",
     "status": "completed"
    },
    "tags": []
   },
   "source": [
    "* Similar to TRAIN dataset, majority of the Cabin column is also missing in TEST dataset.\n",
    "* Therefore we will drop Cabin column here as well"
   ]
  },
  {
   "cell_type": "code",
   "execution_count": 41,
   "id": "61b4ef96",
   "metadata": {
    "execution": {
     "iopub.execute_input": "2024-04-30T19:40:02.980413Z",
     "iopub.status.busy": "2024-04-30T19:40:02.979600Z",
     "iopub.status.idle": "2024-04-30T19:40:02.986571Z",
     "shell.execute_reply": "2024-04-30T19:40:02.985382Z"
    },
    "papermill": {
     "duration": 0.049804,
     "end_time": "2024-04-30T19:40:02.989514",
     "exception": false,
     "start_time": "2024-04-30T19:40:02.939710",
     "status": "completed"
    },
    "tags": []
   },
   "outputs": [],
   "source": [
    "#  To drop the cabin column in test dataset \n",
    "df_test.drop(columns = 'Cabin', inplace = True)"
   ]
  },
  {
   "cell_type": "code",
   "execution_count": 42,
   "id": "97f6679d",
   "metadata": {
    "execution": {
     "iopub.execute_input": "2024-04-30T19:40:03.073537Z",
     "iopub.status.busy": "2024-04-30T19:40:03.073055Z",
     "iopub.status.idle": "2024-04-30T19:40:03.447682Z",
     "shell.execute_reply": "2024-04-30T19:40:03.446171Z"
    },
    "papermill": {
     "duration": 0.419762,
     "end_time": "2024-04-30T19:40:03.450522",
     "exception": false,
     "start_time": "2024-04-30T19:40:03.030760",
     "status": "completed"
    },
    "tags": []
   },
   "outputs": [
    {
     "data": {
      "text/plain": [
       "<Axes: >"
      ]
     },
     "execution_count": 42,
     "metadata": {},
     "output_type": "execute_result"
    },
    {
     "data": {
      "image/png": "[encoded data removed]",
      "text/plain": [
       "<Figure size 640x480 with 1 Axes>"
      ]
     },
     "metadata": {},
     "output_type": "display_data"
    }
   ],
   "source": [
    "# To check for missing values using heatmap\n",
    "sns.heatmap(df_test.isna(), yticklabels = False, cbar = False)"
   ]
  },
  {
   "cell_type": "markdown",
   "id": "815282c1",
   "metadata": {
    "papermill": {
     "duration": 0.037723,
     "end_time": "2024-04-30T19:40:03.525467",
     "exception": false,
     "start_time": "2024-04-30T19:40:03.487744",
     "status": "completed"
    },
    "tags": []
   },
   "source": [
    "**As we can see that we are done with handling the missing values in TEST dataset as well**"
   ]
  },
  {
   "cell_type": "markdown",
   "id": "22355c63",
   "metadata": {
    "papermill": {
     "duration": 0.037101,
     "end_time": "2024-04-30T19:40:03.601922",
     "exception": false,
     "start_time": "2024-04-30T19:40:03.564821",
     "status": "completed"
    },
    "tags": []
   },
   "source": [
    "# Exploratory Data Analysis(EDA)"
   ]
  },
  {
   "cell_type": "code",
   "execution_count": 43,
   "id": "b0dbee85",
   "metadata": {
    "execution": {
     "iopub.execute_input": "2024-04-30T19:40:03.678646Z",
     "iopub.status.busy": "2024-04-30T19:40:03.678155Z",
     "iopub.status.idle": "2024-04-30T19:40:03.963430Z",
     "shell.execute_reply": "2024-04-30T19:40:03.961822Z"
    },
    "papermill": {
     "duration": 0.327862,
     "end_time": "2024-04-30T19:40:03.966479",
     "exception": false,
     "start_time": "2024-04-30T19:40:03.638617",
     "status": "completed"
    },
    "tags": []
   },
   "outputs": [
    {
     "data": {
      "text/plain": [
       "<Axes: xlabel='Survived', ylabel='count'>"
      ]
     },
     "execution_count": 43,
     "metadata": {},
     "output_type": "execute_result"
    },
    {
     "data": {
      "image/png": "[encoded data removed]",
      "text/plain": [
       "<Figure size 640x480 with 1 Axes>"
      ]
     },
     "metadata": {},
     "output_type": "display_data"
    }
   ],
   "source": [
    "# To check the survived count in train dataset\n",
    "sns.countplot(data = df_train, x = 'Survived')"
   ]
  },
  {
   "cell_type": "markdown",
   "id": "8726eee2",
   "metadata": {
    "papermill": {
     "duration": 0.038691,
     "end_time": "2024-04-30T19:40:04.043528",
     "exception": false,
     "start_time": "2024-04-30T19:40:04.004837",
     "status": "completed"
    },
    "tags": []
   },
   "source": [
    "* From the countplot above we can tell majority of people didnt survive\n",
    "* ***Lets see how the countplot varies with respect to various other columns one at a time***"
   ]
  },
  {
   "cell_type": "code",
   "execution_count": 44,
   "id": "bae8821b",
   "metadata": {
    "execution": {
     "iopub.execute_input": "2024-04-30T19:40:04.120084Z",
     "iopub.status.busy": "2024-04-30T19:40:04.119585Z",
     "iopub.status.idle": "2024-04-30T19:40:04.440636Z",
     "shell.execute_reply": "2024-04-30T19:40:04.439256Z"
    },
    "papermill": {
     "duration": 0.36308,
     "end_time": "2024-04-30T19:40:04.443792",
     "exception": false,
     "start_time": "2024-04-30T19:40:04.080712",
     "status": "completed"
    },
    "tags": []
   },
   "outputs": [
    {
     "data": {
      "text/plain": [
       "<Axes: xlabel='Survived', ylabel='count'>"
      ]
     },
     "execution_count": 44,
     "metadata": {},
     "output_type": "execute_result"
    },
    {
     "data": {
      "image/png": "[encoded data removed]",
      "text/plain": [
       "<Figure size 640x480 with 1 Axes>"
      ]
     },
     "metadata": {},
     "output_type": "display_data"
    }
   ],
   "source": [
    "# To check the number of survived when classified according to sex\n",
    "sns.countplot(data= df_train, x = 'Survived', hue = 'Sex')"
   ]
  },
  {
   "cell_type": "markdown",
   "id": "076fe1a6",
   "metadata": {
    "papermill": {
     "duration": 0.040223,
     "end_time": "2024-04-30T19:40:04.526615",
     "exception": false,
     "start_time": "2024-04-30T19:40:04.486392",
     "status": "completed"
    },
    "tags": []
   },
   "source": [
    "From the above countplot we can determine :\n",
    "* Females are more likely to survive\n",
    "* Males are more likely to die"
   ]
  },
  {
   "cell_type": "code",
   "execution_count": 45,
   "id": "5597aded",
   "metadata": {
    "execution": {
     "iopub.execute_input": "2024-04-30T19:40:04.608935Z",
     "iopub.status.busy": "2024-04-30T19:40:04.608484Z",
     "iopub.status.idle": "2024-04-30T19:40:05.129942Z",
     "shell.execute_reply": "2024-04-30T19:40:05.128326Z"
    },
    "papermill": {
     "duration": 0.565135,
     "end_time": "2024-04-30T19:40:05.132934",
     "exception": false,
     "start_time": "2024-04-30T19:40:04.567799",
     "status": "completed"
    },
    "tags": []
   },
   "outputs": [
    {
     "data": {
      "text/plain": [
       "<Axes: xlabel='Survived', ylabel='count'>"
      ]
     },
     "execution_count": 45,
     "metadata": {},
     "output_type": "execute_result"
    },
    {
     "data": {
      "image/png": "[encoded data removed]",
      "text/plain": [
       "<Figure size 640x480 with 1 Axes>"
      ]
     },
     "metadata": {},
     "output_type": "display_data"
    }
   ],
   "source": [
    "# To check the number of survived when classified according to Pclass\n",
    "sns.countplot(data= df_train, x = 'Survived', hue = 'Pclass')"
   ]
  },
  {
   "cell_type": "markdown",
   "id": "c380752d",
   "metadata": {
    "papermill": {
     "duration": 0.042521,
     "end_time": "2024-04-30T19:40:05.217072",
     "exception": false,
     "start_time": "2024-04-30T19:40:05.174551",
     "status": "completed"
    },
    "tags": []
   },
   "source": [
    "Observations:\n",
    "* People with Pclass - 1 is more likely to survive\n",
    "* Pclass - 3 are more likely to die \n",
    "* Pclass - 2 are more likely to survive than Pclass - 3 but less than Pclass - 1"
   ]
  },
  {
   "cell_type": "code",
   "execution_count": 46,
   "id": "9dd3dc7b",
   "metadata": {
    "execution": {
     "iopub.execute_input": "2024-04-30T19:40:05.301183Z",
     "iopub.status.busy": "2024-04-30T19:40:05.300673Z",
     "iopub.status.idle": "2024-04-30T19:40:05.770023Z",
     "shell.execute_reply": "2024-04-30T19:40:05.768584Z"
    },
    "papermill": {
     "duration": 0.514479,
     "end_time": "2024-04-30T19:40:05.772910",
     "exception": false,
     "start_time": "2024-04-30T19:40:05.258431",
     "status": "completed"
    },
    "tags": []
   },
   "outputs": [
    {
     "data": {
      "text/plain": [
       "<Axes: xlabel='Survived', ylabel='count'>"
      ]
     },
     "execution_count": 46,
     "metadata": {},
     "output_type": "execute_result"
    },
    {
     "data": {
      "image/png": "[encoded data removed]",
      "text/plain": [
       "<Figure size 640x480 with 1 Axes>"
      ]
     },
     "metadata": {},
     "output_type": "display_data"
    }
   ],
   "source": [
    "# To check the number of survived when classified according to SibSp\n",
    "sns.countplot(data= df_train, x = 'Survived', hue = 'SibSp')"
   ]
  },
  {
   "cell_type": "markdown",
   "id": "dd392866",
   "metadata": {
    "papermill": {
     "duration": 0.038511,
     "end_time": "2024-04-30T19:40:05.850339",
     "exception": false,
     "start_time": "2024-04-30T19:40:05.811828",
     "status": "completed"
    },
    "tags": []
   },
   "source": [
    "* People with 1 or 2 Sibling/Spouse are more likely to survive than the rest"
   ]
  },
  {
   "cell_type": "code",
   "execution_count": 47,
   "id": "0f799960",
   "metadata": {
    "execution": {
     "iopub.execute_input": "2024-04-30T19:40:05.932138Z",
     "iopub.status.busy": "2024-04-30T19:40:05.931610Z",
     "iopub.status.idle": "2024-04-30T19:40:06.347555Z",
     "shell.execute_reply": "2024-04-30T19:40:06.346005Z"
    },
    "papermill": {
     "duration": 0.460242,
     "end_time": "2024-04-30T19:40:06.350880",
     "exception": false,
     "start_time": "2024-04-30T19:40:05.890638",
     "status": "completed"
    },
    "tags": []
   },
   "outputs": [
    {
     "data": {
      "text/plain": [
       "<Axes: xlabel='Survived', ylabel='count'>"
      ]
     },
     "execution_count": 47,
     "metadata": {},
     "output_type": "execute_result"
    },
    {
     "data": {
      "image/png": "[encoded data removed]",
      "text/plain": [
       "<Figure size 640x480 with 1 Axes>"
      ]
     },
     "metadata": {},
     "output_type": "display_data"
    }
   ],
   "source": [
    "# To check the number of survived when classified according to Parch\n",
    "sns.countplot(data= df_train, x = 'Survived', hue = 'Parch')"
   ]
  },
  {
   "cell_type": "markdown",
   "id": "84ec682e",
   "metadata": {
    "papermill": {
     "duration": 0.04323,
     "end_time": "2024-04-30T19:40:06.434520",
     "exception": false,
     "start_time": "2024-04-30T19:40:06.391290",
     "status": "completed"
    },
    "tags": []
   },
   "source": [
    "* Again similar to SibSp, people with 1 or 2 Parent/Child are more likely to survive than the rest"
   ]
  },
  {
   "cell_type": "code",
   "execution_count": 48,
   "id": "3b706766",
   "metadata": {
    "execution": {
     "iopub.execute_input": "2024-04-30T19:40:06.519268Z",
     "iopub.status.busy": "2024-04-30T19:40:06.518486Z",
     "iopub.status.idle": "2024-04-30T19:40:06.876296Z",
     "shell.execute_reply": "2024-04-30T19:40:06.874742Z"
    },
    "papermill": {
     "duration": 0.404478,
     "end_time": "2024-04-30T19:40:06.879191",
     "exception": false,
     "start_time": "2024-04-30T19:40:06.474713",
     "status": "completed"
    },
    "tags": []
   },
   "outputs": [
    {
     "data": {
      "text/plain": [
       "<Axes: xlabel='Survived', ylabel='count'>"
      ]
     },
     "execution_count": 48,
     "metadata": {},
     "output_type": "execute_result"
    },
    {
     "data": {
      "image/png": "[encoded data removed]",
      "text/plain": [
       "<Figure size 640x480 with 1 Axes>"
      ]
     },
     "metadata": {},
     "output_type": "display_data"
    }
   ],
   "source": [
    "# To check the number of survived when classified according to Embarked\n",
    "sns.countplot(data= df_train, x = 'Survived', hue = 'Embarked')"
   ]
  },
  {
   "cell_type": "markdown",
   "id": "ae741b46",
   "metadata": {
    "papermill": {
     "duration": 0.041674,
     "end_time": "2024-04-30T19:40:06.963308",
     "exception": false,
     "start_time": "2024-04-30T19:40:06.921634",
     "status": "completed"
    },
    "tags": []
   },
   "source": [
    "* People from Cherbourg(C) are more likely to survive than the rest"
   ]
  },
  {
   "cell_type": "markdown",
   "id": "c47bae96",
   "metadata": {
    "papermill": {
     "duration": 0.04166,
     "end_time": "2024-04-30T19:40:07.050713",
     "exception": false,
     "start_time": "2024-04-30T19:40:07.009053",
     "status": "completed"
    },
    "tags": []
   },
   "source": [
    "# Data Preprocessing"
   ]
  },
  {
   "cell_type": "code",
   "execution_count": 49,
   "id": "73b3e2fa",
   "metadata": {
    "execution": {
     "iopub.execute_input": "2024-04-30T19:40:07.140075Z",
     "iopub.status.busy": "2024-04-30T19:40:07.139343Z",
     "iopub.status.idle": "2024-04-30T19:40:07.152001Z",
     "shell.execute_reply": "2024-04-30T19:40:07.150730Z"
    },
    "papermill": {
     "duration": 0.059779,
     "end_time": "2024-04-30T19:40:07.155079",
     "exception": false,
     "start_time": "2024-04-30T19:40:07.095300",
     "status": "completed"
    },
    "tags": []
   },
   "outputs": [
    {
     "name": "stdout",
     "output_type": "stream",
     "text": [
      "<class 'pandas.core.frame.DataFrame'>\n",
      "RangeIndex: 891 entries, 0 to 890\n",
      "Data columns (total 11 columns):\n",
      " #   Column       Non-Null Count  Dtype  \n",
      "---  ------       --------------  -----  \n",
      " 0   PassengerId  891 non-null    int64  \n",
      " 1   Survived     891 non-null    int64  \n",
      " 2   Pclass       891 non-null    int64  \n",
      " 3   Name         891 non-null    object \n",
      " 4   Sex          891 non-null    object \n",
      " 5   Age          891 non-null    float64\n",
      " 6   SibSp        891 non-null    int64  \n",
      " 7   Parch        891 non-null    int64  \n",
      " 8   Ticket       891 non-null    object \n",
      " 9   Fare         891 non-null    float64\n",
      " 10  Embarked     891 non-null    object \n",
      "dtypes: float64(2), int64(5), object(4)\n",
      "memory usage: 76.7+ KB\n"
     ]
    }
   ],
   "source": [
    "df_train.info()"
   ]
  },
  {
   "cell_type": "code",
   "execution_count": 50,
   "id": "6ad684f2",
   "metadata": {
    "execution": {
     "iopub.execute_input": "2024-04-30T19:40:07.243945Z",
     "iopub.status.busy": "2024-04-30T19:40:07.243157Z",
     "iopub.status.idle": "2024-04-30T19:40:07.253763Z",
     "shell.execute_reply": "2024-04-30T19:40:07.252882Z"
    },
    "papermill": {
     "duration": 0.058073,
     "end_time": "2024-04-30T19:40:07.256245",
     "exception": false,
     "start_time": "2024-04-30T19:40:07.198172",
     "status": "completed"
    },
    "tags": []
   },
   "outputs": [
    {
     "data": {
      "text/plain": [
       "PassengerId    891\n",
       "Survived         2\n",
       "Pclass           3\n",
       "Name           891\n",
       "Sex              2\n",
       "Age             88\n",
       "SibSp            7\n",
       "Parch            7\n",
       "Ticket         681\n",
       "Fare           248\n",
       "Embarked         3\n",
       "dtype: int64"
      ]
     },
     "execution_count": 50,
     "metadata": {},
     "output_type": "execute_result"
    }
   ],
   "source": [
    "# To check the number of unique values in each column in train dataset\n",
    "df_train.nunique()"
   ]
  },
  {
   "cell_type": "markdown",
   "id": "dd047688",
   "metadata": {
    "papermill": {
     "duration": 0.041132,
     "end_time": "2024-04-30T19:40:07.338881",
     "exception": false,
     "start_time": "2024-04-30T19:40:07.297749",
     "status": "completed"
    },
    "tags": []
   },
   "source": [
    "* **We can observe from above that 'Sex' and 'Embarked' columns are categoricel with low cardinality, therefore we can easily encode them using OrdinalEncoder.**"
   ]
  },
  {
   "cell_type": "code",
   "execution_count": 51,
   "id": "7ebc9e99",
   "metadata": {
    "execution": {
     "iopub.execute_input": "2024-04-30T19:40:07.426060Z",
     "iopub.status.busy": "2024-04-30T19:40:07.425158Z",
     "iopub.status.idle": "2024-04-30T19:40:07.430686Z",
     "shell.execute_reply": "2024-04-30T19:40:07.429715Z"
    },
    "papermill": {
     "duration": 0.052276,
     "end_time": "2024-04-30T19:40:07.433222",
     "exception": false,
     "start_time": "2024-04-30T19:40:07.380946",
     "status": "completed"
    },
    "tags": []
   },
   "outputs": [],
   "source": [
    "encode_cols = ['Sex', 'Embarked']"
   ]
  },
  {
   "cell_type": "code",
   "execution_count": 52,
   "id": "8762aac7",
   "metadata": {
    "execution": {
     "iopub.execute_input": "2024-04-30T19:40:07.518051Z",
     "iopub.status.busy": "2024-04-30T19:40:07.517158Z",
     "iopub.status.idle": "2024-04-30T19:40:07.530165Z",
     "shell.execute_reply": "2024-04-30T19:40:07.529112Z"
    },
    "papermill": {
     "duration": 0.058982,
     "end_time": "2024-04-30T19:40:07.533133",
     "exception": false,
     "start_time": "2024-04-30T19:40:07.474151",
     "status": "completed"
    },
    "tags": []
   },
   "outputs": [],
   "source": [
    "# To encode 'Sex' and 'Embarked' columns using Ordinal Encoder\n",
    "odEncoder = OrdinalEncoder()\n",
    "df_train[encode_cols] = odEncoder.fit_transform(df_train[encode_cols])\n",
    "df_test[encode_cols] = odEncoder.transform(df_test[encode_cols])"
   ]
  },
  {
   "cell_type": "markdown",
   "id": "e0945003",
   "metadata": {
    "papermill": {
     "duration": 0.042387,
     "end_time": "2024-04-30T19:40:07.622641",
     "exception": false,
     "start_time": "2024-04-30T19:40:07.580254",
     "status": "completed"
    },
    "tags": []
   },
   "source": [
    "* Remaining categorical columns 'Name' and 'Ticket' have very high cardinality and doesnt help us much, therfore we will drop them.\n",
    "* Also, we will drop 'PessengerId' column because it is not of much use either."
   ]
  },
  {
   "cell_type": "code",
   "execution_count": 53,
   "id": "335c6bf4",
   "metadata": {
    "execution": {
     "iopub.execute_input": "2024-04-30T19:40:07.707689Z",
     "iopub.status.busy": "2024-04-30T19:40:07.707214Z",
     "iopub.status.idle": "2024-04-30T19:40:07.715615Z",
     "shell.execute_reply": "2024-04-30T19:40:07.714164Z"
    },
    "papermill": {
     "duration": 0.054058,
     "end_time": "2024-04-30T19:40:07.718428",
     "exception": false,
     "start_time": "2024-04-30T19:40:07.664370",
     "status": "completed"
    },
    "tags": []
   },
   "outputs": [],
   "source": [
    "# To drop the following columns in train and test datasets\n",
    "for data in [df_train, df_test]:\n",
    "    data.drop(columns = ['PassengerId', 'Name', 'Ticket'], inplace = True)"
   ]
  },
  {
   "cell_type": "code",
   "execution_count": 54,
   "id": "d5208560",
   "metadata": {
    "execution": {
     "iopub.execute_input": "2024-04-30T19:40:07.804915Z",
     "iopub.status.busy": "2024-04-30T19:40:07.803882Z",
     "iopub.status.idle": "2024-04-30T19:40:07.817355Z",
     "shell.execute_reply": "2024-04-30T19:40:07.816214Z"
    },
    "papermill": {
     "duration": 0.059875,
     "end_time": "2024-04-30T19:40:07.820264",
     "exception": false,
     "start_time": "2024-04-30T19:40:07.760389",
     "status": "completed"
    },
    "tags": []
   },
   "outputs": [
    {
     "name": "stdout",
     "output_type": "stream",
     "text": [
      "<class 'pandas.core.frame.DataFrame'>\n",
      "RangeIndex: 891 entries, 0 to 890\n",
      "Data columns (total 8 columns):\n",
      " #   Column    Non-Null Count  Dtype  \n",
      "---  ------    --------------  -----  \n",
      " 0   Survived  891 non-null    int64  \n",
      " 1   Pclass    891 non-null    int64  \n",
      " 2   Sex       891 non-null    float64\n",
      " 3   Age       891 non-null    float64\n",
      " 4   SibSp     891 non-null    int64  \n",
      " 5   Parch     891 non-null    int64  \n",
      " 6   Fare      891 non-null    float64\n",
      " 7   Embarked  891 non-null    float64\n",
      "dtypes: float64(4), int64(4)\n",
      "memory usage: 55.8 KB\n"
     ]
    }
   ],
   "source": [
    "df_train.info()"
   ]
  },
  {
   "cell_type": "code",
   "execution_count": 55,
   "id": "b31e92a5",
   "metadata": {
    "execution": {
     "iopub.execute_input": "2024-04-30T19:40:07.906759Z",
     "iopub.status.busy": "2024-04-30T19:40:07.906076Z",
     "iopub.status.idle": "2024-04-30T19:40:07.917926Z",
     "shell.execute_reply": "2024-04-30T19:40:07.916784Z"
    },
    "papermill": {
     "duration": 0.058558,
     "end_time": "2024-04-30T19:40:07.921812",
     "exception": false,
     "start_time": "2024-04-30T19:40:07.863254",
     "status": "completed"
    },
    "tags": []
   },
   "outputs": [
    {
     "name": "stdout",
     "output_type": "stream",
     "text": [
      "<class 'pandas.core.frame.DataFrame'>\n",
      "RangeIndex: 418 entries, 0 to 417\n",
      "Data columns (total 7 columns):\n",
      " #   Column    Non-Null Count  Dtype  \n",
      "---  ------    --------------  -----  \n",
      " 0   Pclass    418 non-null    int64  \n",
      " 1   Sex       418 non-null    float64\n",
      " 2   Age       418 non-null    float64\n",
      " 3   SibSp     418 non-null    int64  \n",
      " 4   Parch     418 non-null    int64  \n",
      " 5   Fare      418 non-null    float64\n",
      " 6   Embarked  418 non-null    float64\n",
      "dtypes: float64(4), int64(3)\n",
      "memory usage: 23.0 KB\n"
     ]
    }
   ],
   "source": [
    "df_test.info()"
   ]
  },
  {
   "cell_type": "code",
   "execution_count": 56,
   "id": "215a4116",
   "metadata": {
    "execution": {
     "iopub.execute_input": "2024-04-30T19:40:08.007588Z",
     "iopub.status.busy": "2024-04-30T19:40:08.006963Z",
     "iopub.status.idle": "2024-04-30T19:40:08.024693Z",
     "shell.execute_reply": "2024-04-30T19:40:08.023468Z"
    },
    "papermill": {
     "duration": 0.063931,
     "end_time": "2024-04-30T19:40:08.027225",
     "exception": false,
     "start_time": "2024-04-30T19:40:07.963294",
     "status": "completed"
    },
    "tags": []
   },
   "outputs": [
    {
     "data": {
      "text/html": [
       "<div>\n",
       "<style scoped>\n",
       "    .dataframe tbody tr th:only-of-type {\n",
       "        vertical-align: middle;\n",
       "    }\n",
       "\n",
       "    .dataframe tbody tr th {\n",
       "        vertical-align: top;\n",
       "    }\n",
       "\n",
       "    .dataframe thead th {\n",
       "        text-align: right;\n",
       "    }\n",
       "</style>\n",
       "<table border=\"1\" class=\"dataframe\">\n",
       "  <thead>\n",
       "    <tr style=\"text-align: right;\">\n",
       "      <th></th>\n",
       "      <th>Survived</th>\n",
       "      <th>Pclass</th>\n",
       "      <th>Sex</th>\n",
       "      <th>Age</th>\n",
       "      <th>SibSp</th>\n",
       "      <th>Parch</th>\n",
       "      <th>Fare</th>\n",
       "      <th>Embarked</th>\n",
       "    </tr>\n",
       "  </thead>\n",
       "  <tbody>\n",
       "    <tr>\n",
       "      <th>Survived</th>\n",
       "      <td>1.000000</td>\n",
       "      <td>-0.338481</td>\n",
       "      <td>-0.543351</td>\n",
       "      <td>-0.047255</td>\n",
       "      <td>-0.035322</td>\n",
       "      <td>0.081629</td>\n",
       "      <td>0.257307</td>\n",
       "      <td>-0.167675</td>\n",
       "    </tr>\n",
       "    <tr>\n",
       "      <th>Pclass</th>\n",
       "      <td>-0.338481</td>\n",
       "      <td>1.000000</td>\n",
       "      <td>0.131900</td>\n",
       "      <td>-0.408487</td>\n",
       "      <td>0.083081</td>\n",
       "      <td>0.018443</td>\n",
       "      <td>-0.549500</td>\n",
       "      <td>0.162098</td>\n",
       "    </tr>\n",
       "    <tr>\n",
       "      <th>Sex</th>\n",
       "      <td>-0.543351</td>\n",
       "      <td>0.131900</td>\n",
       "      <td>1.000000</td>\n",
       "      <td>0.078421</td>\n",
       "      <td>-0.114631</td>\n",
       "      <td>-0.245489</td>\n",
       "      <td>-0.182333</td>\n",
       "      <td>0.108262</td>\n",
       "    </tr>\n",
       "    <tr>\n",
       "      <th>Age</th>\n",
       "      <td>-0.047255</td>\n",
       "      <td>-0.408487</td>\n",
       "      <td>0.078421</td>\n",
       "      <td>1.000000</td>\n",
       "      <td>-0.243526</td>\n",
       "      <td>-0.171095</td>\n",
       "      <td>0.123784</td>\n",
       "      <td>-0.011245</td>\n",
       "    </tr>\n",
       "    <tr>\n",
       "      <th>SibSp</th>\n",
       "      <td>-0.035322</td>\n",
       "      <td>0.083081</td>\n",
       "      <td>-0.114631</td>\n",
       "      <td>-0.243526</td>\n",
       "      <td>1.000000</td>\n",
       "      <td>0.414838</td>\n",
       "      <td>0.159651</td>\n",
       "      <td>0.068230</td>\n",
       "    </tr>\n",
       "    <tr>\n",
       "      <th>Parch</th>\n",
       "      <td>0.081629</td>\n",
       "      <td>0.018443</td>\n",
       "      <td>-0.245489</td>\n",
       "      <td>-0.171095</td>\n",
       "      <td>0.414838</td>\n",
       "      <td>1.000000</td>\n",
       "      <td>0.216225</td>\n",
       "      <td>0.039798</td>\n",
       "    </tr>\n",
       "    <tr>\n",
       "      <th>Fare</th>\n",
       "      <td>0.257307</td>\n",
       "      <td>-0.549500</td>\n",
       "      <td>-0.182333</td>\n",
       "      <td>0.123784</td>\n",
       "      <td>0.159651</td>\n",
       "      <td>0.216225</td>\n",
       "      <td>1.000000</td>\n",
       "      <td>-0.224719</td>\n",
       "    </tr>\n",
       "    <tr>\n",
       "      <th>Embarked</th>\n",
       "      <td>-0.167675</td>\n",
       "      <td>0.162098</td>\n",
       "      <td>0.108262</td>\n",
       "      <td>-0.011245</td>\n",
       "      <td>0.068230</td>\n",
       "      <td>0.039798</td>\n",
       "      <td>-0.224719</td>\n",
       "      <td>1.000000</td>\n",
       "    </tr>\n",
       "  </tbody>\n",
       "</table>\n",
       "</div>"
      ],
      "text/plain": [
       "          Survived    Pclass       Sex       Age     SibSp     Parch  \\\n",
       "Survived  1.000000 -0.338481 -0.543351 -0.047255 -0.035322  0.081629   \n",
       "Pclass   -0.338481  1.000000  0.131900 -0.408487  0.083081  0.018443   \n",
       "Sex      -0.543351  0.131900  1.000000  0.078421 -0.114631 -0.245489   \n",
       "Age      -0.047255 -0.408487  0.078421  1.000000 -0.243526 -0.171095   \n",
       "SibSp    -0.035322  0.083081 -0.114631 -0.243526  1.000000  0.414838   \n",
       "Parch     0.081629  0.018443 -0.245489 -0.171095  0.414838  1.000000   \n",
       "Fare      0.257307 -0.549500 -0.182333  0.123784  0.159651  0.216225   \n",
       "Embarked -0.167675  0.162098  0.108262 -0.011245  0.068230  0.039798   \n",
       "\n",
       "              Fare  Embarked  \n",
       "Survived  0.257307 -0.167675  \n",
       "Pclass   -0.549500  0.162098  \n",
       "Sex      -0.182333  0.108262  \n",
       "Age       0.123784 -0.011245  \n",
       "SibSp     0.159651  0.068230  \n",
       "Parch     0.216225  0.039798  \n",
       "Fare      1.000000 -0.224719  \n",
       "Embarked -0.224719  1.000000  "
      ]
     },
     "execution_count": 56,
     "metadata": {},
     "output_type": "execute_result"
    }
   ],
   "source": [
    "df_train.corr()"
   ]
  },
  {
   "cell_type": "code",
   "execution_count": 57,
   "id": "307b7fb3",
   "metadata": {
    "execution": {
     "iopub.execute_input": "2024-04-30T19:40:08.111010Z",
     "iopub.status.busy": "2024-04-30T19:40:08.110373Z",
     "iopub.status.idle": "2024-04-30T19:40:08.851865Z",
     "shell.execute_reply": "2024-04-30T19:40:08.850734Z"
    },
    "papermill": {
     "duration": 0.786676,
     "end_time": "2024-04-30T19:40:08.854543",
     "exception": false,
     "start_time": "2024-04-30T19:40:08.067867",
     "status": "completed"
    },
    "tags": []
   },
   "outputs": [
    {
     "data": {
      "text/plain": [
       "<Axes: >"
      ]
     },
     "execution_count": 57,
     "metadata": {},
     "output_type": "execute_result"
    },
    {
     "data": {
      "image/png": "[encoded data removed]",
      "text/plain": [
       "<Figure size 640x480 with 2 Axes>"
      ]
     },
     "metadata": {},
     "output_type": "display_data"
    }
   ],
   "source": [
    "sns.heatmap(df_train.corr(), annot = True, fmt = '.2f' ,cmap = 'coolwarm')"
   ]
  },
  {
   "cell_type": "markdown",
   "id": "2a8c6517",
   "metadata": {
    "papermill": {
     "duration": 0.042488,
     "end_time": "2024-04-30T19:40:08.939317",
     "exception": false,
     "start_time": "2024-04-30T19:40:08.896829",
     "status": "completed"
    },
    "tags": []
   },
   "source": [
    "# Model Training"
   ]
  },
  {
   "cell_type": "code",
   "execution_count": 58,
   "id": "85764713",
   "metadata": {
    "execution": {
     "iopub.execute_input": "2024-04-30T19:40:09.027662Z",
     "iopub.status.busy": "2024-04-30T19:40:09.025933Z",
     "iopub.status.idle": "2024-04-30T19:40:09.035105Z",
     "shell.execute_reply": "2024-04-30T19:40:09.033829Z"
    },
    "papermill": {
     "duration": 0.056417,
     "end_time": "2024-04-30T19:40:09.037543",
     "exception": false,
     "start_time": "2024-04-30T19:40:08.981126",
     "status": "completed"
    },
    "tags": []
   },
   "outputs": [],
   "source": [
    "# Creating training and target data\n",
    "X = df_train.drop(columns = 'Survived')\n",
    "y = df_train['Survived']"
   ]
  },
  {
   "cell_type": "code",
   "execution_count": 59,
   "id": "2b7993ae",
   "metadata": {
    "execution": {
     "iopub.execute_input": "2024-04-30T19:40:09.125743Z",
     "iopub.status.busy": "2024-04-30T19:40:09.124538Z",
     "iopub.status.idle": "2024-04-30T19:40:09.134992Z",
     "shell.execute_reply": "2024-04-30T19:40:09.133875Z"
    },
    "papermill": {
     "duration": 0.058096,
     "end_time": "2024-04-30T19:40:09.137816",
     "exception": false,
     "start_time": "2024-04-30T19:40:09.079720",
     "status": "completed"
    },
    "tags": []
   },
   "outputs": [],
   "source": [
    "# Split the data into training and validation sets\n",
    "X_train, X_valid, y_train, y_valid = train_test_split(X, y, test_size=0.2, random_state=42)"
   ]
  },
  {
   "cell_type": "code",
   "execution_count": 60,
   "id": "5da4d72b",
   "metadata": {
    "execution": {
     "iopub.execute_input": "2024-04-30T19:40:09.226228Z",
     "iopub.status.busy": "2024-04-30T19:40:09.225507Z",
     "iopub.status.idle": "2024-04-30T19:40:09.518533Z",
     "shell.execute_reply": "2024-04-30T19:40:09.517026Z"
    },
    "papermill": {
     "duration": 0.339871,
     "end_time": "2024-04-30T19:40:09.521501",
     "exception": false,
     "start_time": "2024-04-30T19:40:09.181630",
     "status": "completed"
    },
    "tags": []
   },
   "outputs": [
    {
     "data": {
      "text/html": [
       "<style>#sk-container-id-1 {color: black;background-color: white;}#sk-container-id-1 pre{padding: 0;}#sk-container-id-1 div.sk-toggleable {background-color: white;}#sk-container-id-1 label.sk-toggleable__label {cursor: pointer;display: block;width: 100%;margin-bottom: 0;padding: 0.3em;box-sizing: border-box;text-align: center;}#sk-container-id-1 label.sk-toggleable__label-arrow:before {content: \"▸\";float: left;margin-right: 0.25em;color: #696969;}#sk-container-id-1 label.sk-toggleable__label-arrow:hover:before {color: black;}#sk-container-id-1 div.sk-estimator:hover label.sk-toggleable__label-arrow:before {color: black;}#sk-container-id-1 div.sk-toggleable__content {max-height: 0;max-width: 0;overflow: hidden;text-align: left;background-color: #f0f8ff;}#sk-container-id-1 div.sk-toggleable__content pre {margin: 0.2em;color: black;border-radius: 0.25em;background-color: #f0f8ff;}#sk-container-id-1 input.sk-toggleable__control:checked~div.sk-toggleable__content {max-height: 200px;max-width: 100%;overflow: auto;}#sk-container-id-1 input.sk-toggleable__control:checked~label.sk-toggleable__label-arrow:before {content: \"▾\";}#sk-container-id-1 div.sk-estimator input.sk-toggleable__control:checked~label.sk-toggleable__label {background-color: #d4ebff;}#sk-container-id-1 div.sk-label input.sk-toggleable__control:checked~label.sk-toggleable__label {background-color: #d4ebff;}#sk-container-id-1 input.sk-hidden--visually {border: 0;clip: rect(1px 1px 1px 1px);clip: rect(1px, 1px, 1px, 1px);height: 1px;margin: -1px;overflow: hidden;padding: 0;position: absolute;width: 1px;}#sk-container-id-1 div.sk-estimator {font-family: monospace;background-color: #f0f8ff;border: 1px dotted black;border-radius: 0.25em;box-sizing: border-box;margin-bottom: 0.5em;}#sk-container-id-1 div.sk-estimator:hover {background-color: #d4ebff;}#sk-container-id-1 div.sk-parallel-item::after {content: \"\";width: 100%;border-bottom: 1px solid gray;flex-grow: 1;}#sk-container-id-1 div.sk-label:hover label.sk-toggleable__label {background-color: #d4ebff;}#sk-container-id-1 div.sk-serial::before {content: \"\";position: absolute;border-left: 1px solid gray;box-sizing: border-box;top: 0;bottom: 0;left: 50%;z-index: 0;}#sk-container-id-1 div.sk-serial {display: flex;flex-direction: column;align-items: center;background-color: white;padding-right: 0.2em;padding-left: 0.2em;position: relative;}#sk-container-id-1 div.sk-item {position: relative;z-index: 1;}#sk-container-id-1 div.sk-parallel {display: flex;align-items: stretch;justify-content: center;background-color: white;position: relative;}#sk-container-id-1 div.sk-item::before, #sk-container-id-1 div.sk-parallel-item::before {content: \"\";position: absolute;border-left: 1px solid gray;box-sizing: border-box;top: 0;bottom: 0;left: 50%;z-index: -1;}#sk-container-id-1 div.sk-parallel-item {display: flex;flex-direction: column;z-index: 1;position: relative;background-color: white;}#sk-container-id-1 div.sk-parallel-item:first-child::after {align-self: flex-end;width: 50%;}#sk-container-id-1 div.sk-parallel-item:last-child::after {align-self: flex-start;width: 50%;}#sk-container-id-1 div.sk-parallel-item:only-child::after {width: 0;}#sk-container-id-1 div.sk-dashed-wrapped {border: 1px dashed gray;margin: 0 0.4em 0.5em 0.4em;box-sizing: border-box;padding-bottom: 0.4em;background-color: white;}#sk-container-id-1 div.sk-label label {font-family: monospace;font-weight: bold;display: inline-block;line-height: 1.2em;}#sk-container-id-1 div.sk-label-container {text-align: center;}#sk-container-id-1 div.sk-container {/* jupyter's `normalize.less` sets `[hidden] { display: none; }` but bootstrap.min.css set `[hidden] { display: none !important; }` so we also need the `!important` here to be able to override the default hidden behavior on the sphinx rendered scikit-learn.org. See: https://github.com/scikit-learn/scikit-learn/issues/21755 */display: inline-block !important;position: relative;}#sk-container-id-1 div.sk-text-repr-fallback {display: none;}</style><div id=\"sk-container-id-1\" class=\"sk-top-container\"><div class=\"sk-text-repr-fallback\"><pre>RandomForestClassifier(random_state=42)</pre><b>In a Jupyter environment, please rerun this cell to show the HTML representation or trust the notebook. <br />On GitHub, the HTML representation is unable to render, please try loading this page with nbviewer.org.</b></div><div class=\"sk-container\" hidden><div class=\"sk-item\"><div class=\"sk-estimator sk-toggleable\"><input class=\"sk-toggleable__control sk-hidden--visually\" id=\"sk-estimator-id-1\" type=\"checkbox\" checked><label for=\"sk-estimator-id-1\" class=\"sk-toggleable__label sk-toggleable__label-arrow\">RandomForestClassifier</label><div class=\"sk-toggleable__content\"><pre>RandomForestClassifier(random_state=42)</pre></div></div></div></div></div>"
      ],
      "text/plain": [
       "RandomForestClassifier(random_state=42)"
      ]
     },
     "execution_count": 60,
     "metadata": {},
     "output_type": "execute_result"
    }
   ],
   "source": [
    "# Training a RandomForestClassifier\n",
    "model = RandomForestClassifier(n_estimators=100, random_state=42)\n",
    "model.fit(X_train, y_train)"
   ]
  },
  {
   "cell_type": "code",
   "execution_count": 61,
   "id": "fac9ec8c",
   "metadata": {
    "execution": {
     "iopub.execute_input": "2024-04-30T19:40:09.610835Z",
     "iopub.status.busy": "2024-04-30T19:40:09.610441Z",
     "iopub.status.idle": "2024-04-30T19:40:09.631486Z",
     "shell.execute_reply": "2024-04-30T19:40:09.630105Z"
    },
    "papermill": {
     "duration": 0.070813,
     "end_time": "2024-04-30T19:40:09.635076",
     "exception": false,
     "start_time": "2024-04-30T19:40:09.564263",
     "status": "completed"
    },
    "tags": []
   },
   "outputs": [],
   "source": [
    "# Make predictions on the validation set\n",
    "valid_predictions = model.predict(X_valid)"
   ]
  },
  {
   "cell_type": "code",
   "execution_count": 62,
   "id": "2bf21906",
   "metadata": {
    "execution": {
     "iopub.execute_input": "2024-04-30T19:40:09.723371Z",
     "iopub.status.busy": "2024-04-30T19:40:09.722930Z",
     "iopub.status.idle": "2024-04-30T19:40:09.732733Z",
     "shell.execute_reply": "2024-04-30T19:40:09.731138Z"
    },
    "papermill": {
     "duration": 0.057495,
     "end_time": "2024-04-30T19:40:09.735688",
     "exception": false,
     "start_time": "2024-04-30T19:40:09.678193",
     "status": "completed"
    },
    "tags": []
   },
   "outputs": [
    {
     "name": "stdout",
     "output_type": "stream",
     "text": [
      "Validation Accuracy: 0.8156424581005587\n"
     ]
    }
   ],
   "source": [
    "# Calculate accuracy\n",
    "accuracy = accuracy_score(y_valid, valid_predictions)\n",
    "print(\"Validation Accuracy:\", accuracy)"
   ]
  },
  {
   "cell_type": "code",
   "execution_count": 63,
   "id": "b8d367ad",
   "metadata": {
    "execution": {
     "iopub.execute_input": "2024-04-30T19:40:09.828669Z",
     "iopub.status.busy": "2024-04-30T19:40:09.828247Z",
     "iopub.status.idle": "2024-04-30T19:40:09.852188Z",
     "shell.execute_reply": "2024-04-30T19:40:09.850619Z"
    },
    "papermill": {
     "duration": 0.073983,
     "end_time": "2024-04-30T19:40:09.855467",
     "exception": false,
     "start_time": "2024-04-30T19:40:09.781484",
     "status": "completed"
    },
    "tags": []
   },
   "outputs": [],
   "source": [
    "# Make predictions on the test set\n",
    "test_predictions = model.predict(df_test)"
   ]
  },
  {
   "cell_type": "code",
   "execution_count": 64,
   "id": "ac20d5e3",
   "metadata": {
    "execution": {
     "iopub.execute_input": "2024-04-30T19:40:09.949794Z",
     "iopub.status.busy": "2024-04-30T19:40:09.949285Z",
     "iopub.status.idle": "2024-04-30T19:40:09.960680Z",
     "shell.execute_reply": "2024-04-30T19:40:09.959309Z"
    },
    "papermill": {
     "duration": 0.064204,
     "end_time": "2024-04-30T19:40:09.964349",
     "exception": false,
     "start_time": "2024-04-30T19:40:09.900145",
     "status": "completed"
    },
    "tags": []
   },
   "outputs": [],
   "source": [
    "test_data = pd.read_csv(test_path)\n",
    "test_data['PassengerId'] = test_data['PassengerId'].astype('Int32')"
   ]
  },
  {
   "cell_type": "code",
   "execution_count": 65,
   "id": "74e8ad79",
   "metadata": {
    "execution": {
     "iopub.execute_input": "2024-04-30T19:40:10.058543Z",
     "iopub.status.busy": "2024-04-30T19:40:10.058102Z",
     "iopub.status.idle": "2024-04-30T19:40:10.065020Z",
     "shell.execute_reply": "2024-04-30T19:40:10.063332Z"
    },
    "papermill": {
     "duration": 0.058798,
     "end_time": "2024-04-30T19:40:10.068059",
     "exception": false,
     "start_time": "2024-04-30T19:40:10.009261",
     "status": "completed"
    },
    "tags": []
   },
   "outputs": [],
   "source": [
    "# Prepare submission file\n",
    "submission = pd.DataFrame({\"PassengerId\": test_data[\"PassengerId\"], \"Survived\": test_predictions})"
   ]
  },
  {
   "cell_type": "code",
   "execution_count": 66,
   "id": "1a6a560f",
   "metadata": {
    "execution": {
     "iopub.execute_input": "2024-04-30T19:40:10.161542Z",
     "iopub.status.busy": "2024-04-30T19:40:10.160987Z",
     "iopub.status.idle": "2024-04-30T19:40:10.173514Z",
     "shell.execute_reply": "2024-04-30T19:40:10.170032Z"
    },
    "papermill": {
     "duration": 0.063055,
     "end_time": "2024-04-30T19:40:10.176554",
     "exception": false,
     "start_time": "2024-04-30T19:40:10.113499",
     "status": "completed"
    },
    "tags": []
   },
   "outputs": [],
   "source": [
    "# Save submission to CSV\n",
    "submission.to_csv(\"submission.csv\", index=False)"
   ]
  },
  {
   "cell_type": "markdown",
   "id": "b52fd0b2",
   "metadata": {
    "papermill": {
     "duration": 0.044012,
     "end_time": "2024-04-30T19:40:10.268116",
     "exception": false,
     "start_time": "2024-04-30T19:40:10.224104",
     "status": "completed"
    },
    "tags": []
   },
   "source": [
    "# Results:\n",
    "* **According to kaggle the model had a score of 0.76076**"
   ]
  },
  {
   "cell_type": "markdown",
   "id": "3d9c5f1e",
   "metadata": {
    "papermill": {
     "duration": 0.045081,
     "end_time": "2024-04-30T19:40:10.356537",
     "exception": false,
     "start_time": "2024-04-30T19:40:10.311456",
     "status": "completed"
    },
    "tags": []
   },
   "source": [
    "# Conclusion and Findings :\n",
    "* *Females are more likely to survive than males*\n",
    "* *People belonging to Pessenger class 1 are more likely to survive*\n",
    "* *Peopole with 1 or 2 silbling / spouse are more likely to survive*\n",
    "* *Peopole with 1 or 2 Parent/Children are more likely to survive*\n"
   ]
  }
 ],
 "metadata": {
  "kaggle": {
   "accelerator": "none",
   "dataSources": [
    {
     "databundleVersionId": 26502,
     "sourceId": 3136,
     "sourceType": "competition"
    }
   ],
   "dockerImageVersionId": 30698,
   "isGpuEnabled": false,
   "isInternetEnabled": false,
   "language": "python",
   "sourceType": "notebook"
  },
  "kernelspec": {
   "display_name": "Python 3",
   "language": "python",
   "name": "python3"
  },
  "language_info": {
   "codemirror_mode": {
    "name": "ipython",
    "version": 3
   },
   "file_extension": ".py",
   "mimetype": "text/x-python",
   "name": "python",
   "nbconvert_exporter": "python",
   "pygments_lexer": "ipython3",
   "version": "3.10.13"
  },
  "papermill": {
   "default_parameters": {},
   "duration": 23.979472,
   "end_time": "2024-04-30T19:40:11.228105",
   "environment_variables": {},
   "exception": null,
   "input_path": "__notebook__.ipynb",
   "output_path": "__notebook__.ipynb",
   "parameters": {},
   "start_time": "2024-04-30T19:39:47.248633",
   "version": "2.5.0"
  }
 },
 "nbformat": 4,
 "nbformat_minor": 5
}
